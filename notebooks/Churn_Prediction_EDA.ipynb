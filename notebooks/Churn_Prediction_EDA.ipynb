{
  "cells": [
    {
      "cell_type": "code",
      "execution_count": null,
      "id": "9a3e29d3-28ea-4471-88ac-7c99cd530020",
      "metadata": {
        "jupyter": {
          "outputs_hidden": false,
          "source_hidden": false
        },
        "noteable": {
          "cell_type": "code"
        }
      },
      "outputs": [],
      "source": []
    },
    {
      "cell_type": "code",
      "execution_count": 8,
      "id": "126b2cda-f690-47b5-8428-960635b67820",
      "metadata": {
        "ExecuteTime": {
          "end_time": "2023-09-22T11:52:37.716394+00:00",
          "start_time": "2023-09-22T11:52:37.449409+00:00"
        },
        "datalink": {
          "b52f0442-4277-498b-b057-a3513ae69ba1": {
            "applied_filters": [],
            "dataframe_info": {
              "default_index_used": true,
              "orig_num_cols": 21,
              "orig_num_rows": 5,
              "orig_size_bytes": 880,
              "truncated_num_cols": 21,
              "truncated_num_rows": 5,
              "truncated_size_bytes": 880,
              "truncated_string_columns": []
            },
            "display_id": "b52f0442-4277-498b-b057-a3513ae69ba1",
            "dx_settings": {
              "ALLOW_NOTEABLE_ATTRS": true,
              "COLUMN_SAMPLING_METHOD": "outer",
              "DB_LOCATION": ":memory:",
              "DEV_MODE": false,
              "DISPLAY_MAX_COLUMNS": 100,
              "DISPLAY_MAX_ROWS": 50000,
              "DISPLAY_MODE": "simple",
              "ENABLE_ASSIGNMENT": true,
              "ENABLE_DATALINK": true,
              "FLATTEN_COLUMN_VALUES": true,
              "FLATTEN_INDEX_VALUES": false,
              "GENERATE_DEX_METADATA": false,
              "HTML_TABLE_SCHEMA": false,
              "LOG_LEVEL": 30,
              "MAX_RENDER_SIZE_BYTES": 104857600,
              "MAX_STRING_LENGTH": 250,
              "NUM_PAST_SAMPLES_TRACKED": 3,
              "RANDOM_STATE": 12648430,
              "RESET_INDEX_VALUES": false,
              "ROW_SAMPLING_METHOD": "random",
              "SAMPLING_FACTOR": 0.1,
              "SAMPLING_METHOD": "random",
              "STRINGIFY_COLUMN_VALUES": true,
              "STRINGIFY_INDEX_VALUES": false
            },
            "sample_history": [],
            "sampling_time": "2023-09-22T11:52:37.550069",
            "user_variable_name": null,
            "variable_name": "unk_dataframe_3d2ad93a13a44c59b9e5574338718dc2"
          }
        },
        "noteable": {
          "cell_type": "code",
          "output_collection_id": "93d22d2a-0cb9-4cba-8c02-440746b315f5"
        }
      },
      "outputs": [
        {
          "data": {
            "text/html": [
              "<div>\n",
              "<style scoped>\n",
              "    .dataframe tbody tr th:only-of-type {\n",
              "        vertical-align: middle;\n",
              "    }\n",
              "\n",
              "    .dataframe tbody tr th {\n",
              "        vertical-align: top;\n",
              "    }\n",
              "\n",
              "    .dataframe thead th {\n",
              "        text-align: right;\n",
              "    }\n",
              "</style>\n",
              "<table border=\"1\" class=\"dataframe\">\n",
              "  <thead>\n",
              "    <tr style=\"text-align: right;\">\n",
              "      <th></th>\n",
              "      <th>CLIENTNUM</th>\n",
              "      <th>Attrition_Flag</th>\n",
              "      <th>Customer_Age</th>\n",
              "      <th>Gender</th>\n",
              "      <th>Dependent_count</th>\n",
              "      <th>Education_Level</th>\n",
              "      <th>Marital_Status</th>\n",
              "      <th>Income_Category</th>\n",
              "      <th>Card_Category</th>\n",
              "      <th>Months_on_book</th>\n",
              "      <th>...</th>\n",
              "      <th>Months_Inactive_12_mon</th>\n",
              "      <th>Contacts_Count_12_mon</th>\n",
              "      <th>Credit_Limit</th>\n",
              "      <th>Total_Revolving_Bal</th>\n",
              "      <th>Avg_Open_To_Buy</th>\n",
              "      <th>Total_Amt_Chng_Q4_Q1</th>\n",
              "      <th>Total_Trans_Amt</th>\n",
              "      <th>Total_Trans_Ct</th>\n",
              "      <th>Total_Ct_Chng_Q4_Q1</th>\n",
              "      <th>Avg_Utilization_Ratio</th>\n",
              "    </tr>\n",
              "  </thead>\n",
              "  <tbody>\n",
              "    <tr>\n",
              "      <th>0</th>\n",
              "      <td>768805383</td>\n",
              "      <td>Existing Customer</td>\n",
              "      <td>45</td>\n",
              "      <td>M</td>\n",
              "      <td>3</td>\n",
              "      <td>High School</td>\n",
              "      <td>Married</td>\n",
              "      <td>$60K - $80K</td>\n",
              "      <td>Blue</td>\n",
              "      <td>39</td>\n",
              "      <td>...</td>\n",
              "      <td>1</td>\n",
              "      <td>3</td>\n",
              "      <td>12691.0</td>\n",
              "      <td>777</td>\n",
              "      <td>11914.0</td>\n",
              "      <td>1.335</td>\n",
              "      <td>1144</td>\n",
              "      <td>42</td>\n",
              "      <td>1.625</td>\n",
              "      <td>0.061</td>\n",
              "    </tr>\n",
              "    <tr>\n",
              "      <th>1</th>\n",
              "      <td>818770008</td>\n",
              "      <td>Existing Customer</td>\n",
              "      <td>49</td>\n",
              "      <td>F</td>\n",
              "      <td>5</td>\n",
              "      <td>Graduate</td>\n",
              "      <td>Single</td>\n",
              "      <td>Less than $40K</td>\n",
              "      <td>Blue</td>\n",
              "      <td>44</td>\n",
              "      <td>...</td>\n",
              "      <td>1</td>\n",
              "      <td>2</td>\n",
              "      <td>8256.0</td>\n",
              "      <td>864</td>\n",
              "      <td>7392.0</td>\n",
              "      <td>1.541</td>\n",
              "      <td>1291</td>\n",
              "      <td>33</td>\n",
              "      <td>3.714</td>\n",
              "      <td>0.105</td>\n",
              "    </tr>\n",
              "    <tr>\n",
              "      <th>2</th>\n",
              "      <td>713982108</td>\n",
              "      <td>Existing Customer</td>\n",
              "      <td>51</td>\n",
              "      <td>M</td>\n",
              "      <td>3</td>\n",
              "      <td>Graduate</td>\n",
              "      <td>Married</td>\n",
              "      <td>$80K - $120K</td>\n",
              "      <td>Blue</td>\n",
              "      <td>36</td>\n",
              "      <td>...</td>\n",
              "      <td>1</td>\n",
              "      <td>0</td>\n",
              "      <td>3418.0</td>\n",
              "      <td>0</td>\n",
              "      <td>3418.0</td>\n",
              "      <td>2.594</td>\n",
              "      <td>1887</td>\n",
              "      <td>20</td>\n",
              "      <td>2.333</td>\n",
              "      <td>0.000</td>\n",
              "    </tr>\n",
              "    <tr>\n",
              "      <th>3</th>\n",
              "      <td>769911858</td>\n",
              "      <td>Existing Customer</td>\n",
              "      <td>40</td>\n",
              "      <td>F</td>\n",
              "      <td>4</td>\n",
              "      <td>High School</td>\n",
              "      <td>Unknown</td>\n",
              "      <td>Less than $40K</td>\n",
              "      <td>Blue</td>\n",
              "      <td>34</td>\n",
              "      <td>...</td>\n",
              "      <td>4</td>\n",
              "      <td>1</td>\n",
              "      <td>3313.0</td>\n",
              "      <td>2517</td>\n",
              "      <td>796.0</td>\n",
              "      <td>1.405</td>\n",
              "      <td>1171</td>\n",
              "      <td>20</td>\n",
              "      <td>2.333</td>\n",
              "      <td>0.760</td>\n",
              "    </tr>\n",
              "    <tr>\n",
              "      <th>4</th>\n",
              "      <td>709106358</td>\n",
              "      <td>Existing Customer</td>\n",
              "      <td>40</td>\n",
              "      <td>M</td>\n",
              "      <td>3</td>\n",
              "      <td>Uneducated</td>\n",
              "      <td>Married</td>\n",
              "      <td>$60K - $80K</td>\n",
              "      <td>Blue</td>\n",
              "      <td>21</td>\n",
              "      <td>...</td>\n",
              "      <td>1</td>\n",
              "      <td>0</td>\n",
              "      <td>4716.0</td>\n",
              "      <td>0</td>\n",
              "      <td>4716.0</td>\n",
              "      <td>2.175</td>\n",
              "      <td>816</td>\n",
              "      <td>28</td>\n",
              "      <td>2.500</td>\n",
              "      <td>0.000</td>\n",
              "    </tr>\n",
              "  </tbody>\n",
              "</table>\n",
              "<p>5 rows × 21 columns</p>\n",
              "</div>"
            ],
            "text/plain": [
              "   CLIENTNUM     Attrition_Flag  Customer_Age Gender  Dependent_count  \\\n",
              "0  768805383  Existing Customer            45      M                3   \n",
              "1  818770008  Existing Customer            49      F                5   \n",
              "2  713982108  Existing Customer            51      M                3   \n",
              "3  769911858  Existing Customer            40      F                4   \n",
              "4  709106358  Existing Customer            40      M                3   \n",
              "\n",
              "  Education_Level Marital_Status Income_Category Card_Category  \\\n",
              "0     High School        Married     $60K - $80K          Blue   \n",
              "1        Graduate         Single  Less than $40K          Blue   \n",
              "2        Graduate        Married    $80K - $120K          Blue   \n",
              "3     High School        Unknown  Less than $40K          Blue   \n",
              "4      Uneducated        Married     $60K - $80K          Blue   \n",
              "\n",
              "   Months_on_book  ...  Months_Inactive_12_mon  Contacts_Count_12_mon  \\\n",
              "0              39  ...                       1                      3   \n",
              "1              44  ...                       1                      2   \n",
              "2              36  ...                       1                      0   \n",
              "3              34  ...                       4                      1   \n",
              "4              21  ...                       1                      0   \n",
              "\n",
              "   Credit_Limit  Total_Revolving_Bal  Avg_Open_To_Buy  Total_Amt_Chng_Q4_Q1  \\\n",
              "0       12691.0                  777          11914.0                 1.335   \n",
              "1        8256.0                  864           7392.0                 1.541   \n",
              "2        3418.0                    0           3418.0                 2.594   \n",
              "3        3313.0                 2517            796.0                 1.405   \n",
              "4        4716.0                    0           4716.0                 2.175   \n",
              "\n",
              "   Total_Trans_Amt  Total_Trans_Ct  Total_Ct_Chng_Q4_Q1  Avg_Utilization_Ratio  \n",
              "0             1144              42                1.625                  0.061  \n",
              "1             1291              33                3.714                  0.105  \n",
              "2             1887              20                2.333                  0.000  \n",
              "3             1171              20                2.333                  0.760  \n",
              "4              816              28                2.500                  0.000  \n",
              "\n",
              "[5 rows x 21 columns]"
            ]
          },
          "execution_count": 8,
          "metadata": {},
          "output_type": "execute_result"
        }
      ],
      "source": [
        "import pandas as pd\n",
        "\n",
        "# Load the dataset\n",
        "df = pd.read_csv('BankChurners_clean.csv')\n",
        "\n",
        "# Display the first few rows of the dataset\n",
        "df.head()"
      ]
    },
    {
      "cell_type": "code",
      "execution_count": 9,
      "id": "bb610a06-610b-4026-8fc3-7dda24f1f5fe",
      "metadata": {
        "ExecuteTime": {
          "end_time": "2023-09-22T11:53:15.556848+00:00",
          "start_time": "2023-09-22T11:53:14.891690+00:00"
        },
        "noteable": {
          "cell_type": "code",
          "output_collection_id": "7ddffcc0-42c7-4f0e-95c3-68d4843e58ef"
        }
      },
      "outputs": [
        {
          "data": {
            "image/png": "[encoded data removed]",
            "text/plain": [
              "<Figure size 800x600 with 1 Axes>"
            ]
          },
          "metadata": {},
          "output_type": "display_data"
        }
      ],
      "source": [
        "import matplotlib.pyplot as plt\n",
        "\n",
        "# Check the distribution of the target variable 'Attrition_Flag'\n",
        "attrition_counts = df['Attrition_Flag'].value_counts()\n",
        "\n",
        "# Plot the distribution\n",
        "plt.figure(figsize=(8, 6))\n",
        "attrition_counts.plot(kind='bar', color=['skyblue', 'salmon'])\n",
        "plt.title('Distribution of Attrition_Flag')\n",
        "plt.xlabel('Attrition Status')\n",
        "plt.ylabel('Number of Customers')\n",
        "plt.xticks(rotation=0)\n",
        "plt.show()"
      ]
    },
    {
      "cell_type": "code",
      "execution_count": 10,
      "id": "5d310cf9",
      "metadata": {},
      "outputs": [
        {
          "data": {
            "text/plain": [
              "<Figure size 1000x700 with 0 Axes>"
            ]
          },
          "metadata": {},
          "output_type": "display_data"
        },
        {
          "data": {
            "image/png": "[encoded data removed]",
            "text/plain": [
              "<Figure size 640x480 with 1 Axes>"
            ]
          },
          "metadata": {},
          "output_type": "display_data"
        },
        {
          "data": {
            "text/plain": [
              "<Figure size 1000x700 with 0 Axes>"
            ]
          },
          "metadata": {},
          "output_type": "display_data"
        },
        {
          "data": {
            "image/png": "[encoded data removed]",
            "text/plain": [
              "<Figure size 640x480 with 1 Axes>"
            ]
          },
          "metadata": {},
          "output_type": "display_data"
        }
      ],
      "source": [
        "# Education_Level vs Attrition_Flag\n",
        "plt.figure(figsize=(10, 7))\n",
        "df.groupby('Education_Level')['Attrition_Flag'].value_counts().unstack().plot(kind='bar', stacked=True, color=['skyblue', 'salmon'])\n",
        "plt.title('Education_Level vs Attrition_Flag')\n",
        "plt.xlabel('Education Level')\n",
        "plt.ylabel('Count')\n",
        "plt.xticks(rotation=45)\n",
        "plt.legend(title='Attrition_Flag')\n",
        "plt.show()\n",
        "\n",
        "# Income_Category vs Attrition_Flag\n",
        "plt.figure(figsize=(10, 7))\n",
        "df.groupby('Income_Category')['Attrition_Flag'].value_counts().unstack().plot(kind='bar', stacked=True, color=['skyblue', 'salmon'])\n",
        "plt.title('Income_Category vs Attrition_Flag')\n",
        "plt.xlabel('Income Category')\n",
        "plt.ylabel('Count')\n",
        "plt.xticks(rotation=45)\n",
        "plt.legend(title='Attrition_Flag')\n",
        "plt.show()"
      ]
    },
    {
      "cell_type": "markdown",
      "id": "cfc7f380",
      "metadata": {},
      "source": []
    },
    {
      "cell_type": "code",
      "execution_count": 11,
      "id": "326b4a60-4cda-4ac5-9c45-8257e1a491ec",
      "metadata": {
        "ExecuteTime": {
          "end_time": "2023-09-22T11:53:41.835908+00:00",
          "start_time": "2023-09-22T11:53:41.608213+00:00"
        },
        "datalink": {
          "ef037f7e-107c-41d9-a411-10a7fed61df4": {
            "applied_filters": [],
            "dataframe_info": {
              "default_index_used": false,
              "orig_num_cols": 1,
              "orig_num_rows": 0,
              "orig_size_bytes": 0,
              "truncated_num_cols": 1,
              "truncated_num_rows": 0,
              "truncated_size_bytes": 0,
              "truncated_string_columns": []
            },
            "display_id": "ef037f7e-107c-41d9-a411-10a7fed61df4",
            "dx_settings": {
              "ALLOW_NOTEABLE_ATTRS": true,
              "COLUMN_SAMPLING_METHOD": "outer",
              "DB_LOCATION": ":memory:",
              "DEV_MODE": false,
              "DISPLAY_MAX_COLUMNS": 100,
              "DISPLAY_MAX_ROWS": 50000,
              "DISPLAY_MODE": "simple",
              "ENABLE_ASSIGNMENT": true,
              "ENABLE_DATALINK": true,
              "FLATTEN_COLUMN_VALUES": true,
              "FLATTEN_INDEX_VALUES": false,
              "GENERATE_DEX_METADATA": false,
              "HTML_TABLE_SCHEMA": false,
              "LOG_LEVEL": 30,
              "MAX_RENDER_SIZE_BYTES": 104857600,
              "MAX_STRING_LENGTH": 250,
              "NUM_PAST_SAMPLES_TRACKED": 3,
              "RANDOM_STATE": 12648430,
              "RESET_INDEX_VALUES": false,
              "ROW_SAMPLING_METHOD": "random",
              "SAMPLING_FACTOR": 0.1,
              "SAMPLING_METHOD": "random",
              "STRINGIFY_COLUMN_VALUES": true,
              "STRINGIFY_INDEX_VALUES": false
            },
            "sample_history": [],
            "sampling_time": "2023-09-22T11:53:41.677178",
            "user_variable_name": null,
            "variable_name": "unk_dataframe_9399aff2e8d74dccac68668d74cbce5c"
          }
        },
        "noteable": {
          "cell_type": "code",
          "output_collection_id": "9637607e-a083-4640-9216-9217a442b7fa"
        }
      },
      "outputs": [
        {
          "data": {
            "text/plain": [
              "Series([], dtype: int64)"
            ]
          },
          "execution_count": 11,
          "metadata": {},
          "output_type": "execute_result"
        }
      ],
      "source": [
        "# Check for missing values in the dataset\n",
        "missing_values = df.isnull().sum()\n",
        "\n",
        "# Display columns with missing values, if any\n",
        "missing_values[missing_values > 0]"
      ]
    },
    {
      "cell_type": "code",
      "execution_count": 12,
      "id": "409415c5-ba34-48ad-8336-68b6915a531d",
      "metadata": {
        "ExecuteTime": {
          "end_time": "2023-09-22T11:54:05.752368+00:00",
          "start_time": "2023-09-22T11:54:05.198323+00:00"
        },
        "noteable": {
          "cell_type": "code",
          "output_collection_id": "bdc84480-4987-4584-b2d2-8e3b5377d78c"
        }
      },
      "outputs": [
        {
          "data": {
            "image/png": "[encoded data removed]",
            "text/plain": [
              "<Figure size 1000x600 with 1 Axes>"
            ]
          },
          "metadata": {},
          "output_type": "display_data"
        }
      ],
      "source": [
        "# Plot the distribution of 'Customer_Age'\n",
        "plt.figure(figsize=(10, 6))\n",
        "plt.hist(df['Customer_Age'], bins=30, color='skyblue', edgecolor='black')\n",
        "plt.title('Distribution of Customer Age')\n",
        "plt.xlabel('Age')\n",
        "plt.ylabel('Number of Customers')\n",
        "plt.grid(axis='y')\n",
        "plt.show()"
      ]
    },
    {
      "cell_type": "code",
      "execution_count": 13,
      "id": "09bea3bb-ab3d-412c-bd6e-fa2fb0e2637b",
      "metadata": {
        "ExecuteTime": {
          "end_time": "2023-09-22T11:54:31.676490+00:00",
          "start_time": "2023-09-22T11:54:31.291802+00:00"
        },
        "noteable": {
          "cell_type": "code",
          "output_collection_id": "9735cb6d-0650-41a1-a3da-c3a0500b4e47"
        }
      },
      "outputs": [
        {
          "data": {
            "image/png": "[encoded data removed]",
            "text/plain": [
              "<Figure size 1000x600 with 1 Axes>"
            ]
          },
          "metadata": {},
          "output_type": "display_data"
        }
      ],
      "source": [
        "# Plot the distribution of 'Total_Trans_Amt'\n",
        "plt.figure(figsize=(10, 6))\n",
        "plt.hist(df['Total_Trans_Amt'], bins=30, color='salmon', edgecolor='black')\n",
        "plt.title('Distribution of Total Transaction Amount')\n",
        "plt.xlabel('Transaction Amount')\n",
        "plt.ylabel('Number of Customers')\n",
        "plt.grid(axis='y')\n",
        "plt.show()"
      ]
    },
    {
      "cell_type": "code",
      "execution_count": 14,
      "id": "6632b18b-aafa-477f-961c-dc2a2287946b",
      "metadata": {
        "ExecuteTime": {
          "end_time": "2023-09-22T11:55:22.733133+00:00",
          "start_time": "2023-09-22T11:55:22.257802+00:00"
        },
        "datalink": {
          "c2789e36-7304-43c3-a3b6-3a62e9415daa": {
            "applied_filters": [],
            "dataframe_info": {
              "default_index_used": true,
              "orig_num_cols": 21,
              "orig_num_rows": 5,
              "orig_size_bytes": 880,
              "truncated_num_cols": 21,
              "truncated_num_rows": 5,
              "truncated_size_bytes": 880,
              "truncated_string_columns": []
            },
            "display_id": "c2789e36-7304-43c3-a3b6-3a62e9415daa",
            "dx_settings": {
              "ALLOW_NOTEABLE_ATTRS": true,
              "COLUMN_SAMPLING_METHOD": "outer",
              "DB_LOCATION": ":memory:",
              "DEV_MODE": false,
              "DISPLAY_MAX_COLUMNS": 100,
              "DISPLAY_MAX_ROWS": 50000,
              "DISPLAY_MODE": "simple",
              "ENABLE_ASSIGNMENT": true,
              "ENABLE_DATALINK": true,
              "FLATTEN_COLUMN_VALUES": true,
              "FLATTEN_INDEX_VALUES": false,
              "GENERATE_DEX_METADATA": false,
              "HTML_TABLE_SCHEMA": false,
              "LOG_LEVEL": 30,
              "MAX_RENDER_SIZE_BYTES": 104857600,
              "MAX_STRING_LENGTH": 250,
              "NUM_PAST_SAMPLES_TRACKED": 3,
              "RANDOM_STATE": 12648430,
              "RESET_INDEX_VALUES": false,
              "ROW_SAMPLING_METHOD": "random",
              "SAMPLING_FACTOR": 0.1,
              "SAMPLING_METHOD": "random",
              "STRINGIFY_COLUMN_VALUES": true,
              "STRINGIFY_INDEX_VALUES": false
            },
            "sample_history": [],
            "sampling_time": "2023-09-22T11:55:22.570196",
            "user_variable_name": null,
            "variable_name": "unk_dataframe_1be2c3cdd5304598a4d0d141af3103a3"
          }
        },
        "noteable": {
          "cell_type": "code",
          "output_collection_id": "fdd1f2d3-04fa-4e65-b728-dc1fc1de6ab1"
        }
      },
      "outputs": [
        {
          "data": {
            "text/html": [
              "<div>\n",
              "<style scoped>\n",
              "    .dataframe tbody tr th:only-of-type {\n",
              "        vertical-align: middle;\n",
              "    }\n",
              "\n",
              "    .dataframe tbody tr th {\n",
              "        vertical-align: top;\n",
              "    }\n",
              "\n",
              "    .dataframe thead th {\n",
              "        text-align: right;\n",
              "    }\n",
              "</style>\n",
              "<table border=\"1\" class=\"dataframe\">\n",
              "  <thead>\n",
              "    <tr style=\"text-align: right;\">\n",
              "      <th></th>\n",
              "      <th>CLIENTNUM</th>\n",
              "      <th>Attrition_Flag</th>\n",
              "      <th>Customer_Age</th>\n",
              "      <th>Gender</th>\n",
              "      <th>Dependent_count</th>\n",
              "      <th>Education_Level</th>\n",
              "      <th>Marital_Status</th>\n",
              "      <th>Income_Category</th>\n",
              "      <th>Card_Category</th>\n",
              "      <th>Months_on_book</th>\n",
              "      <th>...</th>\n",
              "      <th>Months_Inactive_12_mon</th>\n",
              "      <th>Contacts_Count_12_mon</th>\n",
              "      <th>Credit_Limit</th>\n",
              "      <th>Total_Revolving_Bal</th>\n",
              "      <th>Avg_Open_To_Buy</th>\n",
              "      <th>Total_Amt_Chng_Q4_Q1</th>\n",
              "      <th>Total_Trans_Amt</th>\n",
              "      <th>Total_Trans_Ct</th>\n",
              "      <th>Total_Ct_Chng_Q4_Q1</th>\n",
              "      <th>Avg_Utilization_Ratio</th>\n",
              "    </tr>\n",
              "  </thead>\n",
              "  <tbody>\n",
              "    <tr>\n",
              "      <th>0</th>\n",
              "      <td>768805383</td>\n",
              "      <td>1</td>\n",
              "      <td>45</td>\n",
              "      <td>1</td>\n",
              "      <td>3</td>\n",
              "      <td>3</td>\n",
              "      <td>1</td>\n",
              "      <td>2</td>\n",
              "      <td>0</td>\n",
              "      <td>39</td>\n",
              "      <td>...</td>\n",
              "      <td>1</td>\n",
              "      <td>3</td>\n",
              "      <td>12691.0</td>\n",
              "      <td>777</td>\n",
              "      <td>11914.0</td>\n",
              "      <td>1.335</td>\n",
              "      <td>1144</td>\n",
              "      <td>42</td>\n",
              "      <td>1.625</td>\n",
              "      <td>0.061</td>\n",
              "    </tr>\n",
              "    <tr>\n",
              "      <th>1</th>\n",
              "      <td>818770008</td>\n",
              "      <td>1</td>\n",
              "      <td>49</td>\n",
              "      <td>0</td>\n",
              "      <td>5</td>\n",
              "      <td>2</td>\n",
              "      <td>2</td>\n",
              "      <td>4</td>\n",
              "      <td>0</td>\n",
              "      <td>44</td>\n",
              "      <td>...</td>\n",
              "      <td>1</td>\n",
              "      <td>2</td>\n",
              "      <td>8256.0</td>\n",
              "      <td>864</td>\n",
              "      <td>7392.0</td>\n",
              "      <td>1.541</td>\n",
              "      <td>1291</td>\n",
              "      <td>33</td>\n",
              "      <td>3.714</td>\n",
              "      <td>0.105</td>\n",
              "    </tr>\n",
              "    <tr>\n",
              "      <th>2</th>\n",
              "      <td>713982108</td>\n",
              "      <td>1</td>\n",
              "      <td>51</td>\n",
              "      <td>1</td>\n",
              "      <td>3</td>\n",
              "      <td>2</td>\n",
              "      <td>1</td>\n",
              "      <td>3</td>\n",
              "      <td>0</td>\n",
              "      <td>36</td>\n",
              "      <td>...</td>\n",
              "      <td>1</td>\n",
              "      <td>0</td>\n",
              "      <td>3418.0</td>\n",
              "      <td>0</td>\n",
              "      <td>3418.0</td>\n",
              "      <td>2.594</td>\n",
              "      <td>1887</td>\n",
              "      <td>20</td>\n",
              "      <td>2.333</td>\n",
              "      <td>0.000</td>\n",
              "    </tr>\n",
              "    <tr>\n",
              "      <th>3</th>\n",
              "      <td>769911858</td>\n",
              "      <td>1</td>\n",
              "      <td>40</td>\n",
              "      <td>0</td>\n",
              "      <td>4</td>\n",
              "      <td>3</td>\n",
              "      <td>3</td>\n",
              "      <td>4</td>\n",
              "      <td>0</td>\n",
              "      <td>34</td>\n",
              "      <td>...</td>\n",
              "      <td>4</td>\n",
              "      <td>1</td>\n",
              "      <td>3313.0</td>\n",
              "      <td>2517</td>\n",
              "      <td>796.0</td>\n",
              "      <td>1.405</td>\n",
              "      <td>1171</td>\n",
              "      <td>20</td>\n",
              "      <td>2.333</td>\n",
              "      <td>0.760</td>\n",
              "    </tr>\n",
              "    <tr>\n",
              "      <th>4</th>\n",
              "      <td>709106358</td>\n",
              "      <td>1</td>\n",
              "      <td>40</td>\n",
              "      <td>1</td>\n",
              "      <td>3</td>\n",
              "      <td>5</td>\n",
              "      <td>1</td>\n",
              "      <td>2</td>\n",
              "      <td>0</td>\n",
              "      <td>21</td>\n",
              "      <td>...</td>\n",
              "      <td>1</td>\n",
              "      <td>0</td>\n",
              "      <td>4716.0</td>\n",
              "      <td>0</td>\n",
              "      <td>4716.0</td>\n",
              "      <td>2.175</td>\n",
              "      <td>816</td>\n",
              "      <td>28</td>\n",
              "      <td>2.500</td>\n",
              "      <td>0.000</td>\n",
              "    </tr>\n",
              "  </tbody>\n",
              "</table>\n",
              "<p>5 rows × 21 columns</p>\n",
              "</div>"
            ],
            "text/plain": [
              "   CLIENTNUM  Attrition_Flag  Customer_Age  Gender  Dependent_count  \\\n",
              "0  768805383               1            45       1                3   \n",
              "1  818770008               1            49       0                5   \n",
              "2  713982108               1            51       1                3   \n",
              "3  769911858               1            40       0                4   \n",
              "4  709106358               1            40       1                3   \n",
              "\n",
              "   Education_Level  Marital_Status  Income_Category  Card_Category  \\\n",
              "0                3               1                2              0   \n",
              "1                2               2                4              0   \n",
              "2                2               1                3              0   \n",
              "3                3               3                4              0   \n",
              "4                5               1                2              0   \n",
              "\n",
              "   Months_on_book  ...  Months_Inactive_12_mon  Contacts_Count_12_mon  \\\n",
              "0              39  ...                       1                      3   \n",
              "1              44  ...                       1                      2   \n",
              "2              36  ...                       1                      0   \n",
              "3              34  ...                       4                      1   \n",
              "4              21  ...                       1                      0   \n",
              "\n",
              "   Credit_Limit  Total_Revolving_Bal  Avg_Open_To_Buy  Total_Amt_Chng_Q4_Q1  \\\n",
              "0       12691.0                  777          11914.0                 1.335   \n",
              "1        8256.0                  864           7392.0                 1.541   \n",
              "2        3418.0                    0           3418.0                 2.594   \n",
              "3        3313.0                 2517            796.0                 1.405   \n",
              "4        4716.0                    0           4716.0                 2.175   \n",
              "\n",
              "   Total_Trans_Amt  Total_Trans_Ct  Total_Ct_Chng_Q4_Q1  Avg_Utilization_Ratio  \n",
              "0             1144              42                1.625                  0.061  \n",
              "1             1291              33                3.714                  0.105  \n",
              "2             1887              20                2.333                  0.000  \n",
              "3             1171              20                2.333                  0.760  \n",
              "4              816              28                2.500                  0.000  \n",
              "\n",
              "[5 rows x 21 columns]"
            ]
          },
          "execution_count": 14,
          "metadata": {},
          "output_type": "execute_result"
        }
      ],
      "source": [
        "from sklearn.preprocessing import LabelEncoder, StandardScaler\n",
        "from sklearn.model_selection import train_test_split\n",
        "\n",
        "# Encode categorical variables using label encoding\n",
        "label_encoders = {}\n",
        "categorical_columns = df.select_dtypes(include=['object']).columns\n",
        "for col in categorical_columns:\n",
        "    le = LabelEncoder()\n",
        "    df[col] = le.fit_transform(df[col])\n",
        "    label_encoders[col] = le\n",
        "\n",
        "# Display the first few rows of the dataset after encoding\n",
        "df.head()"
      ]
    },
    {
      "cell_type": "code",
      "execution_count": 15,
      "id": "295556ce-56fb-43f0-972f-d43ba3c58083",
      "metadata": {
        "ExecuteTime": {
          "end_time": "2023-09-22T11:55:48.052567+00:00",
          "start_time": "2023-09-22T11:55:47.714648+00:00"
        },
        "datalink": {
          "1b4a2cea-e367-4ef7-bb93-35ab18457531": {
            "applied_filters": [],
            "dataframe_info": {
              "default_index_used": true,
              "orig_num_cols": 21,
              "orig_num_rows": 5,
              "orig_size_bytes": 880,
              "truncated_num_cols": 21,
              "truncated_num_rows": 5,
              "truncated_size_bytes": 880,
              "truncated_string_columns": []
            },
            "display_id": "1b4a2cea-e367-4ef7-bb93-35ab18457531",
            "dx_settings": {
              "ALLOW_NOTEABLE_ATTRS": true,
              "COLUMN_SAMPLING_METHOD": "outer",
              "DB_LOCATION": ":memory:",
              "DEV_MODE": false,
              "DISPLAY_MAX_COLUMNS": 100,
              "DISPLAY_MAX_ROWS": 50000,
              "DISPLAY_MODE": "simple",
              "ENABLE_ASSIGNMENT": true,
              "ENABLE_DATALINK": true,
              "FLATTEN_COLUMN_VALUES": true,
              "FLATTEN_INDEX_VALUES": false,
              "GENERATE_DEX_METADATA": false,
              "HTML_TABLE_SCHEMA": false,
              "LOG_LEVEL": 30,
              "MAX_RENDER_SIZE_BYTES": 104857600,
              "MAX_STRING_LENGTH": 250,
              "NUM_PAST_SAMPLES_TRACKED": 3,
              "RANDOM_STATE": 12648430,
              "RESET_INDEX_VALUES": false,
              "ROW_SAMPLING_METHOD": "random",
              "SAMPLING_FACTOR": 0.1,
              "SAMPLING_METHOD": "random",
              "STRINGIFY_COLUMN_VALUES": true,
              "STRINGIFY_INDEX_VALUES": false
            },
            "sample_history": [],
            "sampling_time": "2023-09-22T11:55:47.890085",
            "user_variable_name": null,
            "variable_name": "unk_dataframe_69209ca81e4d4825a3c53952bf1b777c"
          }
        },
        "noteable": {
          "cell_type": "code",
          "output_collection_id": "b7093020-6413-4b97-9f21-ceec6809dda7"
        }
      },
      "outputs": [
        {
          "data": {
            "text/html": [
              "<div>\n",
              "<style scoped>\n",
              "    .dataframe tbody tr th:only-of-type {\n",
              "        vertical-align: middle;\n",
              "    }\n",
              "\n",
              "    .dataframe tbody tr th {\n",
              "        vertical-align: top;\n",
              "    }\n",
              "\n",
              "    .dataframe thead th {\n",
              "        text-align: right;\n",
              "    }\n",
              "</style>\n",
              "<table border=\"1\" class=\"dataframe\">\n",
              "  <thead>\n",
              "    <tr style=\"text-align: right;\">\n",
              "      <th></th>\n",
              "      <th>CLIENTNUM</th>\n",
              "      <th>Attrition_Flag</th>\n",
              "      <th>Customer_Age</th>\n",
              "      <th>Gender</th>\n",
              "      <th>Dependent_count</th>\n",
              "      <th>Education_Level</th>\n",
              "      <th>Marital_Status</th>\n",
              "      <th>Income_Category</th>\n",
              "      <th>Card_Category</th>\n",
              "      <th>Months_on_book</th>\n",
              "      <th>...</th>\n",
              "      <th>Months_Inactive_12_mon</th>\n",
              "      <th>Contacts_Count_12_mon</th>\n",
              "      <th>Credit_Limit</th>\n",
              "      <th>Total_Revolving_Bal</th>\n",
              "      <th>Avg_Open_To_Buy</th>\n",
              "      <th>Total_Amt_Chng_Q4_Q1</th>\n",
              "      <th>Total_Trans_Amt</th>\n",
              "      <th>Total_Trans_Ct</th>\n",
              "      <th>Total_Ct_Chng_Q4_Q1</th>\n",
              "      <th>Avg_Utilization_Ratio</th>\n",
              "    </tr>\n",
              "  </thead>\n",
              "  <tbody>\n",
              "    <tr>\n",
              "      <th>0</th>\n",
              "      <td>768805383</td>\n",
              "      <td>1</td>\n",
              "      <td>-0.165406</td>\n",
              "      <td>1</td>\n",
              "      <td>0.503368</td>\n",
              "      <td>3</td>\n",
              "      <td>1</td>\n",
              "      <td>2</td>\n",
              "      <td>0</td>\n",
              "      <td>0.384621</td>\n",
              "      <td>...</td>\n",
              "      <td>-1.327136</td>\n",
              "      <td>0.492404</td>\n",
              "      <td>0.446622</td>\n",
              "      <td>-0.473422</td>\n",
              "      <td>0.488971</td>\n",
              "      <td>2.623494</td>\n",
              "      <td>-0.959707</td>\n",
              "      <td>-0.973895</td>\n",
              "      <td>3.834003</td>\n",
              "      <td>-0.775882</td>\n",
              "    </tr>\n",
              "    <tr>\n",
              "      <th>1</th>\n",
              "      <td>818770008</td>\n",
              "      <td>1</td>\n",
              "      <td>0.333570</td>\n",
              "      <td>0</td>\n",
              "      <td>2.043199</td>\n",
              "      <td>2</td>\n",
              "      <td>2</td>\n",
              "      <td>4</td>\n",
              "      <td>0</td>\n",
              "      <td>1.010715</td>\n",
              "      <td>...</td>\n",
              "      <td>-1.327136</td>\n",
              "      <td>-0.411616</td>\n",
              "      <td>-0.041367</td>\n",
              "      <td>-0.366667</td>\n",
              "      <td>-0.008486</td>\n",
              "      <td>3.563293</td>\n",
              "      <td>-0.916433</td>\n",
              "      <td>-1.357340</td>\n",
              "      <td>12.608573</td>\n",
              "      <td>-0.616276</td>\n",
              "    </tr>\n",
              "    <tr>\n",
              "      <th>2</th>\n",
              "      <td>713982108</td>\n",
              "      <td>1</td>\n",
              "      <td>0.583058</td>\n",
              "      <td>1</td>\n",
              "      <td>0.503368</td>\n",
              "      <td>2</td>\n",
              "      <td>1</td>\n",
              "      <td>3</td>\n",
              "      <td>0</td>\n",
              "      <td>0.008965</td>\n",
              "      <td>...</td>\n",
              "      <td>-1.327136</td>\n",
              "      <td>-2.219655</td>\n",
              "      <td>-0.573698</td>\n",
              "      <td>-1.426858</td>\n",
              "      <td>-0.445658</td>\n",
              "      <td>8.367214</td>\n",
              "      <td>-0.740982</td>\n",
              "      <td>-1.911206</td>\n",
              "      <td>6.807864</td>\n",
              "      <td>-0.997155</td>\n",
              "    </tr>\n",
              "    <tr>\n",
              "      <th>3</th>\n",
              "      <td>769911858</td>\n",
              "      <td>1</td>\n",
              "      <td>-0.789126</td>\n",
              "      <td>0</td>\n",
              "      <td>1.273283</td>\n",
              "      <td>3</td>\n",
              "      <td>3</td>\n",
              "      <td>4</td>\n",
              "      <td>0</td>\n",
              "      <td>-0.241473</td>\n",
              "      <td>...</td>\n",
              "      <td>1.641478</td>\n",
              "      <td>-1.315636</td>\n",
              "      <td>-0.585251</td>\n",
              "      <td>1.661686</td>\n",
              "      <td>-0.734100</td>\n",
              "      <td>2.942843</td>\n",
              "      <td>-0.951758</td>\n",
              "      <td>-1.911206</td>\n",
              "      <td>6.807864</td>\n",
              "      <td>1.759686</td>\n",
              "    </tr>\n",
              "    <tr>\n",
              "      <th>4</th>\n",
              "      <td>709106358</td>\n",
              "      <td>1</td>\n",
              "      <td>-0.789126</td>\n",
              "      <td>1</td>\n",
              "      <td>0.503368</td>\n",
              "      <td>5</td>\n",
              "      <td>1</td>\n",
              "      <td>2</td>\n",
              "      <td>0</td>\n",
              "      <td>-1.869317</td>\n",
              "      <td>...</td>\n",
              "      <td>-1.327136</td>\n",
              "      <td>-2.219655</td>\n",
              "      <td>-0.430877</td>\n",
              "      <td>-1.426858</td>\n",
              "      <td>-0.302868</td>\n",
              "      <td>6.455682</td>\n",
              "      <td>-1.056263</td>\n",
              "      <td>-1.570365</td>\n",
              "      <td>7.509325</td>\n",
              "      <td>-0.997155</td>\n",
              "    </tr>\n",
              "  </tbody>\n",
              "</table>\n",
              "<p>5 rows × 21 columns</p>\n",
              "</div>"
            ],
            "text/plain": [
              "   CLIENTNUM  Attrition_Flag  Customer_Age  Gender  Dependent_count  \\\n",
              "0  768805383               1     -0.165406       1         0.503368   \n",
              "1  818770008               1      0.333570       0         2.043199   \n",
              "2  713982108               1      0.583058       1         0.503368   \n",
              "3  769911858               1     -0.789126       0         1.273283   \n",
              "4  709106358               1     -0.789126       1         0.503368   \n",
              "\n",
              "   Education_Level  Marital_Status  Income_Category  Card_Category  \\\n",
              "0                3               1                2              0   \n",
              "1                2               2                4              0   \n",
              "2                2               1                3              0   \n",
              "3                3               3                4              0   \n",
              "4                5               1                2              0   \n",
              "\n",
              "   Months_on_book  ...  Months_Inactive_12_mon  Contacts_Count_12_mon  \\\n",
              "0        0.384621  ...               -1.327136               0.492404   \n",
              "1        1.010715  ...               -1.327136              -0.411616   \n",
              "2        0.008965  ...               -1.327136              -2.219655   \n",
              "3       -0.241473  ...                1.641478              -1.315636   \n",
              "4       -1.869317  ...               -1.327136              -2.219655   \n",
              "\n",
              "   Credit_Limit  Total_Revolving_Bal  Avg_Open_To_Buy  Total_Amt_Chng_Q4_Q1  \\\n",
              "0      0.446622            -0.473422         0.488971              2.623494   \n",
              "1     -0.041367            -0.366667        -0.008486              3.563293   \n",
              "2     -0.573698            -1.426858        -0.445658              8.367214   \n",
              "3     -0.585251             1.661686        -0.734100              2.942843   \n",
              "4     -0.430877            -1.426858        -0.302868              6.455682   \n",
              "\n",
              "   Total_Trans_Amt  Total_Trans_Ct  Total_Ct_Chng_Q4_Q1  Avg_Utilization_Ratio  \n",
              "0        -0.959707       -0.973895             3.834003              -0.775882  \n",
              "1        -0.916433       -1.357340            12.608573              -0.616276  \n",
              "2        -0.740982       -1.911206             6.807864              -0.997155  \n",
              "3        -0.951758       -1.911206             6.807864               1.759686  \n",
              "4        -1.056263       -1.570365             7.509325              -0.997155  \n",
              "\n",
              "[5 rows x 21 columns]"
            ]
          },
          "execution_count": 15,
          "metadata": {},
          "output_type": "execute_result"
        }
      ],
      "source": [
        "# Scale the numerical features\n",
        "scaler = StandardScaler()\n",
        "numerical_columns = df.select_dtypes(include=['float64', 'int64']).columns\n",
        "numerical_columns = numerical_columns.drop('CLIENTNUM')  # Exclude 'CLIENTNUM' as it's an identifier\n",
        "df[numerical_columns] = scaler.fit_transform(df[numerical_columns])\n",
        "\n",
        "# Display the first few rows of the dataset after scaling\n",
        "df.head()"
      ]
    },
    {
      "cell_type": "code",
      "execution_count": 16,
      "id": "80b3d22f-c801-4189-9a52-44d98c5a3803",
      "metadata": {
        "ExecuteTime": {
          "end_time": "2023-09-22T11:56:13.634105+00:00",
          "start_time": "2023-09-22T11:56:13.471276+00:00"
        },
        "noteable": {
          "cell_type": "code",
          "output_collection_id": "0ffaa058-e73f-49b3-beb2-dd8aef65dc4d"
        }
      },
      "outputs": [
        {
          "data": {
            "text/plain": [
              "((8101, 19), (2026, 19), (8101,), (2026,))"
            ]
          },
          "execution_count": 16,
          "metadata": {},
          "output_type": "execute_result"
        }
      ],
      "source": [
        "# Split the data into training and testing sets\n",
        "X = df.drop(['CLIENTNUM', 'Attrition_Flag'], axis=1)  # Features (excluding identifier and target variable)\n",
        "y = df['Attrition_Flag']  # Target variable\n",
        "\n",
        "X_train, X_test, y_train, y_test = train_test_split(X, y, test_size=0.2, random_state=42, stratify=y)\n",
        "\n",
        "# Display the shape of the training and testing sets\n",
        "X_train.shape, X_test.shape, y_train.shape, y_test.shape"
      ]
    },
    {
      "cell_type": "code",
      "execution_count": 17,
      "id": "3b9de5ac-2831-4145-a5a8-edd949361b0e",
      "metadata": {
        "ExecuteTime": {
          "end_time": "2023-09-22T11:59:11.595420+00:00",
          "start_time": "2023-09-22T11:59:10.998385+00:00"
        },
        "noteable": {
          "cell_type": "code",
          "output_collection_id": "fe93c3e5-1680-4d86-afc3-4153b8530709"
        }
      },
      "outputs": [
        {
          "data": {
            "text/plain": [
              "(0.9619940769990128,\n",
              " '              precision    recall  f1-score   support\\n\\n           0       0.91      0.84      0.88       325\\n           1       0.97      0.98      0.98      1701\\n\\n    accuracy                           0.96      2026\\n   macro avg       0.94      0.91      0.93      2026\\nweighted avg       0.96      0.96      0.96      2026\\n')"
            ]
          },
          "execution_count": 17,
          "metadata": {},
          "output_type": "execute_result"
        }
      ],
      "source": [
        "from sklearn.ensemble import RandomForestClassifier\n",
        "from sklearn.metrics import accuracy_score, classification_report, confusion_matrix\n",
        "\n",
        "# Initialize the Random Forest classifier\n",
        "rf_classifier = RandomForestClassifier(random_state=42)\n",
        "\n",
        "# Train the classifier on the training data\n",
        "rf_classifier.fit(X_train, y_train)\n",
        "\n",
        "# Predict on the testing data\n",
        "rf_predictions = rf_classifier.predict(X_test)\n",
        "\n",
        "# Evaluate the performance\n",
        "rf_accuracy = accuracy_score(y_test, rf_predictions)\n",
        "rf_report = classification_report(y_test, rf_predictions)\n",
        "\n",
        "rf_accuracy, rf_report"
      ]
    },
    {
      "cell_type": "code",
      "execution_count": 18,
      "id": "e202278a-f221-450a-ae70-d6c6791b650b",
      "metadata": {
        "ExecuteTime": {
          "end_time": "2023-09-22T11:59:26.950629+00:00",
          "start_time": "2023-09-22T11:59:26.793357+00:00"
        },
        "noteable": {
          "cell_type": "code",
          "output_collection_id": "659b0d89-aaa5-4995-8845-5b38eaea6d2c"
        }
      },
      "outputs": [
        {
          "data": {
            "text/plain": [
              "array([1, 0])"
            ]
          },
          "execution_count": 18,
          "metadata": {},
          "output_type": "execute_result"
        }
      ],
      "source": [
        "# Check the unique values in the 'Attrition_Flag' column\n",
        "df['Attrition_Flag'].unique()"
      ]
    },
    {
      "cell_type": "code",
      "execution_count": 19,
      "id": "8212b500-6e75-4951-916e-8539bea9b109",
      "metadata": {
        "ExecuteTime": {
          "end_time": "2023-09-22T12:00:00.777934+00:00",
          "start_time": "2023-09-22T12:00:00.581421+00:00"
        },
        "noteable": {
          "cell_type": "code",
          "output_collection_id": "5e8ee7dd-0210-439d-9d63-e8751f2d2ccd"
        }
      },
      "outputs": [
        {
          "data": {
            "text/plain": [
              "array([1, 0])"
            ]
          },
          "execution_count": 19,
          "metadata": {},
          "output_type": "execute_result"
        }
      ],
      "source": [
        "# Reverse the scaling for 'Attrition_Flag' column\n",
        "df['Attrition_Flag'] = label_encoders['Attrition_Flag'].inverse_transform(df['Attrition_Flag'].astype(int))\n",
        "\n",
        "# Re-encode 'Attrition_Flag' to binary values\n",
        "df['Attrition_Flag'] = label_encoders['Attrition_Flag'].transform(df['Attrition_Flag'])\n",
        "\n",
        "# Split the data again into training and testing sets\n",
        "X = df.drop(['CLIENTNUM', 'Attrition_Flag'], axis=1)\n",
        "y = df['Attrition_Flag']\n",
        "X_train, X_test, y_train, y_test = train_test_split(X, y, test_size=0.2, random_state=42, stratify=y)\n",
        "\n",
        "# Check the unique values in the 'Attrition_Flag' column again\n",
        "df['Attrition_Flag'].unique()"
      ]
    },
    {
      "cell_type": "code",
      "execution_count": 20,
      "id": "0cbd2a1e-0de9-48f4-81f8-8d79ef3a3bc3",
      "metadata": {
        "ExecuteTime": {
          "end_time": "2023-09-22T12:01:40.342467+00:00",
          "start_time": "2023-09-22T12:01:40.147416+00:00"
        },
        "noteable": {
          "cell_type": "code",
          "output_collection_id": "ef4fa698-930e-4d31-a1fc-76087dd55898"
        }
      },
      "outputs": [
        {
          "data": {
            "text/plain": [
              "(0.9619940769990128,\n",
              " '              precision    recall  f1-score   support\\n\\n           0       0.91      0.84      0.88       325\\n           1       0.97      0.98      0.98      1701\\n\\n    accuracy                           0.96      2026\\n   macro avg       0.94      0.91      0.93      2026\\nweighted avg       0.96      0.96      0.96      2026\\n')"
            ]
          },
          "execution_count": 20,
          "metadata": {},
          "output_type": "execute_result"
        }
      ],
      "source": [
        "# Initialize and train the Random Forest classifier\n",
        "rf_classifier = RandomForestClassifier(random_state=42)\n",
        "rf_classifier.fit(X_train, y_train)\n",
        "\n",
        "# Predict on the testing data\n",
        "rf_predictions = rf_classifier.predict(X_test)\n",
        "\n",
        "# Evaluate the performance\n",
        "rf_accuracy = accuracy_score(y_test, rf_predictions)\n",
        "rf_report = classification_report(y_test, rf_predictions)\n",
        "\n",
        "rf_accuracy, rf_report"
      ]
    },
    {
      "cell_type": "code",
      "execution_count": 21,
      "id": "8a4d2503-16a0-4db1-b115-50df15bbf64d",
      "metadata": {
        "ExecuteTime": {
          "end_time": "2023-09-22T12:02:13.784475+00:00",
          "start_time": "2023-09-22T12:02:13.338311+00:00"
        },
        "datalink": {
          "e0731e5b-aee2-4e8a-8a95-c8d43cc799d4": {
            "applied_filters": [],
            "dataframe_info": {
              "default_index_used": false,
              "orig_num_cols": 1,
              "orig_num_rows": 21,
              "orig_size_bytes": 336,
              "truncated_num_cols": 1,
              "truncated_num_rows": 21,
              "truncated_size_bytes": 336,
              "truncated_string_columns": []
            },
            "display_id": "e0731e5b-aee2-4e8a-8a95-c8d43cc799d4",
            "dx_settings": {
              "ALLOW_NOTEABLE_ATTRS": true,
              "COLUMN_SAMPLING_METHOD": "outer",
              "DB_LOCATION": ":memory:",
              "DEV_MODE": false,
              "DISPLAY_MAX_COLUMNS": 100,
              "DISPLAY_MAX_ROWS": 50000,
              "DISPLAY_MODE": "simple",
              "ENABLE_ASSIGNMENT": true,
              "ENABLE_DATALINK": true,
              "FLATTEN_COLUMN_VALUES": true,
              "FLATTEN_INDEX_VALUES": false,
              "GENERATE_DEX_METADATA": false,
              "HTML_TABLE_SCHEMA": false,
              "LOG_LEVEL": 30,
              "MAX_RENDER_SIZE_BYTES": 104857600,
              "MAX_STRING_LENGTH": 250,
              "NUM_PAST_SAMPLES_TRACKED": 3,
              "RANDOM_STATE": 12648430,
              "RESET_INDEX_VALUES": false,
              "ROW_SAMPLING_METHOD": "random",
              "SAMPLING_FACTOR": 0.1,
              "SAMPLING_METHOD": "random",
              "STRINGIFY_COLUMN_VALUES": true,
              "STRINGIFY_INDEX_VALUES": false
            },
            "sample_history": [],
            "sampling_time": "2023-09-22T12:02:13.625562",
            "user_variable_name": null,
            "variable_name": "unk_dataframe_7cfc7ca1ae084924a09b1385ca65b9e9"
          }
        },
        "noteable": {
          "cell_type": "code",
          "output_collection_id": "e86c18fa-fe79-4045-bb48-22257fb6212a"
        }
      },
      "outputs": [
        {
          "data": {
            "text/plain": [
              "CLIENTNUM                     int64\n",
              "Attrition_Flag                int32\n",
              "Customer_Age                float64\n",
              "Gender                        int32\n",
              "Dependent_count             float64\n",
              "Education_Level               int32\n",
              "Marital_Status                int32\n",
              "Income_Category               int32\n",
              "Card_Category                 int32\n",
              "Months_on_book              float64\n",
              "Total_Relationship_Count    float64\n",
              "Months_Inactive_12_mon      float64\n",
              "Contacts_Count_12_mon       float64\n",
              "Credit_Limit                float64\n",
              "Total_Revolving_Bal         float64\n",
              "Avg_Open_To_Buy             float64\n",
              "Total_Amt_Chng_Q4_Q1        float64\n",
              "Total_Trans_Amt             float64\n",
              "Total_Trans_Ct              float64\n",
              "Total_Ct_Chng_Q4_Q1         float64\n",
              "Avg_Utilization_Ratio       float64\n",
              "dtype: object"
            ]
          },
          "execution_count": 21,
          "metadata": {},
          "output_type": "execute_result"
        }
      ],
      "source": [
        "# Identify categorical columns in the dataset\n",
        "categorical_cols = df.select_dtypes(include=['object']).columns\n",
        "\n",
        "# Encode the identified categorical columns\n",
        "for col in categorical_cols:\n",
        "    if col not in label_encoders:\n",
        "        le = LabelEncoder()\n",
        "        df[col] = le.fit_transform(df[col])\n",
        "        label_encoders[col] = le\n",
        "\n",
        "# Split the data again into training and testing sets\n",
        "X = df.drop(['CLIENTNUM', 'Attrition_Flag'], axis=1)\n",
        "y = df['Attrition_Flag']\n",
        "X_train, X_test, y_train, y_test = train_test_split(X, y, test_size=0.2, random_state=42, stratify=y)\n",
        "\n",
        "# Check the data types of the columns in the dataset\n",
        "df.dtypes"
      ]
    },
    {
      "cell_type": "code",
      "execution_count": 22,
      "id": "c8bf5990-ec19-4d2a-8464-f540b94e9d28",
      "metadata": {
        "ExecuteTime": {
          "end_time": "2023-09-22T12:03:25.198989+00:00",
          "start_time": "2023-09-22T12:03:23.998514+00:00"
        },
        "noteable": {
          "cell_type": "code",
          "output_collection_id": "d46099c0-4f0d-41be-b64b-f743448fe859"
        }
      },
      "outputs": [
        {
          "data": {
            "text/plain": [
              "(0.9619940769990128,\n",
              " '              precision    recall  f1-score   support\\n\\n           0       0.91      0.84      0.88       325\\n           1       0.97      0.98      0.98      1701\\n\\n    accuracy                           0.96      2026\\n   macro avg       0.94      0.91      0.93      2026\\nweighted avg       0.96      0.96      0.96      2026\\n')"
            ]
          },
          "execution_count": 22,
          "metadata": {},
          "output_type": "execute_result"
        }
      ],
      "source": [
        "# Identify and encode any remaining categorical columns\n",
        "for col in df.columns:\n",
        "    if df[col].dtype == 'object':\n",
        "        if col not in label_encoders:\n",
        "            le = LabelEncoder()\n",
        "            df[col] = le.fit_transform(df[col])\n",
        "            label_encoders[col] = le\n",
        "        else:\n",
        "            df[col] = label_encoders[col].transform(df[col])\n",
        "\n",
        "# Split the data again into training and testing sets\n",
        "X = df.drop(['CLIENTNUM', 'Attrition_Flag'], axis=1)\n",
        "y = df['Attrition_Flag']\n",
        "X_train, X_test, y_train, y_test = train_test_split(X, y, test_size=0.2, random_state=42, stratify=y)\n",
        "\n",
        "# Initialize and train the Random Forest classifier\n",
        "rf_classifier = RandomForestClassifier(random_state=42)\n",
        "rf_classifier.fit(X_train, y_train)\n",
        "\n",
        "# Predict on the testing data\n",
        "rf_predictions = rf_classifier.predict(X_test)\n",
        "\n",
        "# Evaluate the performance\n",
        "rf_accuracy = accuracy_score(y_test, rf_predictions)\n",
        "rf_report = classification_report(y_test, rf_predictions)\n",
        "\n",
        "rf_accuracy, rf_report"
      ]
    },
    {
      "cell_type": "code",
      "execution_count": 23,
      "id": "757ca63b-de18-4833-bfa1-acbf5bf65a36",
      "metadata": {
        "ExecuteTime": {
          "end_time": "2023-09-22T12:03:59.031577+00:00",
          "start_time": "2023-09-22T12:03:58.861314+00:00"
        },
        "noteable": {
          "cell_type": "code",
          "output_collection_id": "782daa69-28c1-4c92-83cf-43298120f312"
        }
      },
      "outputs": [
        {
          "name": "stderr",
          "output_type": "stream",
          "text": [
            "c:\\Users\\tsepu\\Documents\\GitHub\\Churn_prediction\\env\\Lib\\site-packages\\xgboost\\data.py:335: FutureWarning: is_sparse is deprecated and will be removed in a future version. Check `isinstance(dtype, pd.SparseDtype)` instead.\n",
            "  if is_sparse(dtype):\n",
            "c:\\Users\\tsepu\\Documents\\GitHub\\Churn_prediction\\env\\Lib\\site-packages\\xgboost\\data.py:338: FutureWarning: is_categorical_dtype is deprecated and will be removed in a future version. Use isinstance(dtype, CategoricalDtype) instead\n",
            "  is_categorical_dtype(dtype) or is_pa_ext_categorical_dtype(dtype)\n",
            "c:\\Users\\tsepu\\Documents\\GitHub\\Churn_prediction\\env\\Lib\\site-packages\\xgboost\\data.py:384: FutureWarning: is_categorical_dtype is deprecated and will be removed in a future version. Use isinstance(dtype, CategoricalDtype) instead\n",
            "  if is_categorical_dtype(dtype):\n",
            "c:\\Users\\tsepu\\Documents\\GitHub\\Churn_prediction\\env\\Lib\\site-packages\\xgboost\\data.py:359: FutureWarning: is_categorical_dtype is deprecated and will be removed in a future version. Use isinstance(dtype, CategoricalDtype) instead\n",
            "  return is_int or is_bool or is_float or is_categorical_dtype(dtype)\n",
            "c:\\Users\\tsepu\\Documents\\GitHub\\Churn_prediction\\env\\Lib\\site-packages\\xgboost\\data.py:520: FutureWarning: is_sparse is deprecated and will be removed in a future version. Check `isinstance(dtype, pd.SparseDtype)` instead.\n",
            "  if is_sparse(data):\n",
            "c:\\Users\\tsepu\\Documents\\GitHub\\Churn_prediction\\env\\Lib\\site-packages\\xgboost\\data.py:335: FutureWarning: is_sparse is deprecated and will be removed in a future version. Check `isinstance(dtype, pd.SparseDtype)` instead.\n",
            "  if is_sparse(dtype):\n",
            "c:\\Users\\tsepu\\Documents\\GitHub\\Churn_prediction\\env\\Lib\\site-packages\\xgboost\\data.py:338: FutureWarning: is_categorical_dtype is deprecated and will be removed in a future version. Use isinstance(dtype, CategoricalDtype) instead\n",
            "  is_categorical_dtype(dtype) or is_pa_ext_categorical_dtype(dtype)\n",
            "c:\\Users\\tsepu\\Documents\\GitHub\\Churn_prediction\\env\\Lib\\site-packages\\xgboost\\data.py:384: FutureWarning: is_categorical_dtype is deprecated and will be removed in a future version. Use isinstance(dtype, CategoricalDtype) instead\n",
            "  if is_categorical_dtype(dtype):\n",
            "c:\\Users\\tsepu\\Documents\\GitHub\\Churn_prediction\\env\\Lib\\site-packages\\xgboost\\data.py:359: FutureWarning: is_categorical_dtype is deprecated and will be removed in a future version. Use isinstance(dtype, CategoricalDtype) instead\n",
            "  return is_int or is_bool or is_float or is_categorical_dtype(dtype)\n"
          ]
        },
        {
          "data": {
            "text/plain": [
              "(0.9718657453109576,\n",
              " '              precision    recall  f1-score   support\\n\\n           0       0.92      0.90      0.91       325\\n           1       0.98      0.98      0.98      1701\\n\\n    accuracy                           0.97      2026\\n   macro avg       0.95      0.94      0.95      2026\\nweighted avg       0.97      0.97      0.97      2026\\n')"
            ]
          },
          "execution_count": 23,
          "metadata": {},
          "output_type": "execute_result"
        }
      ],
      "source": [
        "import xgboost as xgb\n",
        "\n",
        "# Initialize the XGBoost classifier\n",
        "xgb_classifier = xgb.XGBClassifier(random_state=42, eval_metric='logloss')\n",
        "\n",
        "# Train the classifier on the training data\n",
        "xgb_classifier.fit(X_train, y_train)\n",
        "\n",
        "# Predict on the testing data\n",
        "xgb_predictions = xgb_classifier.predict(X_test)\n",
        "\n",
        "# Evaluate the performance\n",
        "xgb_accuracy = accuracy_score(y_test, xgb_predictions)\n",
        "xgb_report = classification_report(y_test, xgb_predictions)\n",
        "\n",
        "xgb_accuracy, xgb_report"
      ]
    },
    {
      "cell_type": "code",
      "execution_count": 24,
      "id": "38f201d2-00db-4f55-a362-81504c92df23",
      "metadata": {
        "ExecuteTime": {
          "end_time": "2023-09-22T12:06:39.859747+00:00",
          "start_time": "2023-09-22T12:06:38.645926+00:00"
        },
        "noteable": {
          "cell_type": "code",
          "output_collection_id": "55b4d47b-aea1-4fc6-9276-b621e8626ebd"
        }
      },
      "outputs": [
        {
          "data": {
            "text/plain": [
              "(0.9619940769990128,\n",
              " '              precision    recall  f1-score   support\\n\\n           0       0.91      0.84      0.88       325\\n           1       0.97      0.98      0.98      1701\\n\\n    accuracy                           0.96      2026\\n   macro avg       0.94      0.91      0.93      2026\\nweighted avg       0.96      0.96      0.96      2026\\n')"
            ]
          },
          "execution_count": 24,
          "metadata": {},
          "output_type": "execute_result"
        }
      ],
      "source": [
        "from sklearn.ensemble import RandomForestClassifier\n",
        "from sklearn.metrics import classification_report, accuracy_score\n",
        "\n",
        "# Initialize and train the Random Forest classifier\n",
        "rf_classifier = RandomForestClassifier(random_state=42)\n",
        "rf_classifier.fit(X_train, y_train)\n",
        "\n",
        "# Predict on the testing set\n",
        "rf_predictions = rf_classifier.predict(X_test)\n",
        "\n",
        "# Evaluate the performance\n",
        "rf_accuracy = accuracy_score(y_test, rf_predictions)\n",
        "rf_classification_report = classification_report(y_test, rf_predictions)\n",
        "\n",
        "rf_accuracy, rf_classification_report"
      ]
    },
    {
      "cell_type": "code",
      "execution_count": 25,
      "id": "b640d422-d586-4e1a-b5ba-62ee0414c7b1",
      "metadata": {
        "ExecuteTime": {
          "end_time": "2023-09-22T12:08:39.298899+00:00",
          "start_time": "2023-09-22T12:08:38.971610+00:00"
        },
        "noteable": {
          "cell_type": "code",
          "output_collection_id": "2fcac6cf-a299-4ccf-9974-73f7b93f1a51"
        }
      },
      "outputs": [
        {
          "name": "stderr",
          "output_type": "stream",
          "text": [
            "c:\\Users\\tsepu\\Documents\\GitHub\\Churn_prediction\\env\\Lib\\site-packages\\xgboost\\data.py:335: FutureWarning: is_sparse is deprecated and will be removed in a future version. Check `isinstance(dtype, pd.SparseDtype)` instead.\n",
            "  if is_sparse(dtype):\n",
            "c:\\Users\\tsepu\\Documents\\GitHub\\Churn_prediction\\env\\Lib\\site-packages\\xgboost\\data.py:338: FutureWarning: is_categorical_dtype is deprecated and will be removed in a future version. Use isinstance(dtype, CategoricalDtype) instead\n",
            "  is_categorical_dtype(dtype) or is_pa_ext_categorical_dtype(dtype)\n",
            "c:\\Users\\tsepu\\Documents\\GitHub\\Churn_prediction\\env\\Lib\\site-packages\\xgboost\\data.py:384: FutureWarning: is_categorical_dtype is deprecated and will be removed in a future version. Use isinstance(dtype, CategoricalDtype) instead\n",
            "  if is_categorical_dtype(dtype):\n",
            "c:\\Users\\tsepu\\Documents\\GitHub\\Churn_prediction\\env\\Lib\\site-packages\\xgboost\\data.py:359: FutureWarning: is_categorical_dtype is deprecated and will be removed in a future version. Use isinstance(dtype, CategoricalDtype) instead\n",
            "  return is_int or is_bool or is_float or is_categorical_dtype(dtype)\n",
            "c:\\Users\\tsepu\\Documents\\GitHub\\Churn_prediction\\env\\Lib\\site-packages\\xgboost\\data.py:520: FutureWarning: is_sparse is deprecated and will be removed in a future version. Check `isinstance(dtype, pd.SparseDtype)` instead.\n",
            "  if is_sparse(data):\n",
            "c:\\Users\\tsepu\\Documents\\GitHub\\Churn_prediction\\env\\Lib\\site-packages\\xgboost\\data.py:335: FutureWarning: is_sparse is deprecated and will be removed in a future version. Check `isinstance(dtype, pd.SparseDtype)` instead.\n",
            "  if is_sparse(dtype):\n",
            "c:\\Users\\tsepu\\Documents\\GitHub\\Churn_prediction\\env\\Lib\\site-packages\\xgboost\\data.py:338: FutureWarning: is_categorical_dtype is deprecated and will be removed in a future version. Use isinstance(dtype, CategoricalDtype) instead\n",
            "  is_categorical_dtype(dtype) or is_pa_ext_categorical_dtype(dtype)\n",
            "c:\\Users\\tsepu\\Documents\\GitHub\\Churn_prediction\\env\\Lib\\site-packages\\xgboost\\data.py:384: FutureWarning: is_categorical_dtype is deprecated and will be removed in a future version. Use isinstance(dtype, CategoricalDtype) instead\n",
            "  if is_categorical_dtype(dtype):\n",
            "c:\\Users\\tsepu\\Documents\\GitHub\\Churn_prediction\\env\\Lib\\site-packages\\xgboost\\data.py:359: FutureWarning: is_categorical_dtype is deprecated and will be removed in a future version. Use isinstance(dtype, CategoricalDtype) instead\n",
            "  return is_int or is_bool or is_float or is_categorical_dtype(dtype)\n"
          ]
        },
        {
          "data": {
            "text/plain": [
              "(0.9718657453109576,\n",
              " '              precision    recall  f1-score   support\\n\\n           0       0.92      0.90      0.91       325\\n           1       0.98      0.98      0.98      1701\\n\\n    accuracy                           0.97      2026\\n   macro avg       0.95      0.94      0.95      2026\\nweighted avg       0.97      0.97      0.97      2026\\n')"
            ]
          },
          "execution_count": 25,
          "metadata": {},
          "output_type": "execute_result"
        }
      ],
      "source": [
        "import xgboost as xgb\n",
        "\n",
        "# Initialize and train the XGBoost classifier again\n",
        "xgb_classifier = xgb.XGBClassifier(random_state=42, use_label_encoder=False, eval_metric='logloss')\n",
        "xgb_classifier.fit(X_train, y_train)\n",
        "\n",
        "# Predict on the testing set\n",
        "xgb_predictions = xgb_classifier.predict(X_test)\n",
        "\n",
        "# Evaluate the performance\n",
        "xgb_accuracy = accuracy_score(y_test, xgb_predictions)\n",
        "xgb_classification_report = classification_report(y_test, xgb_predictions)\n",
        "\n",
        "xgb_accuracy, xgb_classification_report"
      ]
    },
    {
      "cell_type": "markdown",
      "id": "1faa2786-5cb3-4b98-90cb-b8d0434a3c1d",
      "metadata": {
        "noteable": {
          "cell_type": "markdown"
        }
      },
      "source": [
        "## Hyperparameter Tuning\n",
        "\n",
        "Hyperparameter tuning is the process of systematically searching for the best combination of hyperparameters that optimize a model's performance on a given task. Unlike model parameters, which are learned during training, hyperparameters are set before training and control various aspects of the training process.\n",
        "\n",
        "### Why Hyperparameter Tuning?\n",
        "- **Optimize Model Performance**: While default hyperparameters can provide good performance, tuning can often lead to better results.\n",
        "- **Avoid Overfitting**: Properly tuned hyperparameters can help in regularizing the model and prevent overfitting.\n",
        "- **Customization**: Different datasets and tasks might require different hyperparameters. Tuning allows customization to the specific characteristics of the data.\n",
        "\n",
        "In this project, given the importance of accurately predicting customer churn, it's crucial to ensure our models are performing at their best. Even slight improvements in accuracy or recall can translate to significant benefits for the bank in terms of customer retention. Therefore, we'll proceed with hyperparameter tuning for our models."
      ]
    },
    {
      "cell_type": "code",
      "execution_count": 26,
      "id": "8b22914a-b395-4d71-8d4a-01b0f69a4fc9",
      "metadata": {
        "ExecuteTime": {
          "end_time": "2023-09-22T12:13:12.803201+00:00",
          "start_time": "2023-09-22T12:12:57.603180+00:00"
        },
        "noteable": {
          "cell_type": "code",
          "output_collection_id": "7a3db0d2-b328-4e8d-8ae1-1c2d7de57cca"
        }
      },
      "outputs": [
        {
          "name": "stderr",
          "output_type": "stream",
          "text": [
            "c:\\Users\\tsepu\\Documents\\GitHub\\Churn_prediction\\env\\Lib\\site-packages\\xgboost\\data.py:335: FutureWarning: is_sparse is deprecated and will be removed in a future version. Check `isinstance(dtype, pd.SparseDtype)` instead.\n",
            "  if is_sparse(dtype):\n",
            "c:\\Users\\tsepu\\Documents\\GitHub\\Churn_prediction\\env\\Lib\\site-packages\\xgboost\\data.py:338: FutureWarning: is_categorical_dtype is deprecated and will be removed in a future version. Use isinstance(dtype, CategoricalDtype) instead\n",
            "  is_categorical_dtype(dtype) or is_pa_ext_categorical_dtype(dtype)\n",
            "c:\\Users\\tsepu\\Documents\\GitHub\\Churn_prediction\\env\\Lib\\site-packages\\xgboost\\data.py:384: FutureWarning: is_categorical_dtype is deprecated and will be removed in a future version. Use isinstance(dtype, CategoricalDtype) instead\n",
            "  if is_categorical_dtype(dtype):\n",
            "c:\\Users\\tsepu\\Documents\\GitHub\\Churn_prediction\\env\\Lib\\site-packages\\xgboost\\data.py:359: FutureWarning: is_categorical_dtype is deprecated and will be removed in a future version. Use isinstance(dtype, CategoricalDtype) instead\n",
            "  return is_int or is_bool or is_float or is_categorical_dtype(dtype)\n",
            "c:\\Users\\tsepu\\Documents\\GitHub\\Churn_prediction\\env\\Lib\\site-packages\\xgboost\\data.py:520: FutureWarning: is_sparse is deprecated and will be removed in a future version. Check `isinstance(dtype, pd.SparseDtype)` instead.\n",
            "  if is_sparse(data):\n"
          ]
        },
        {
          "data": {
            "text/plain": [
              "({'subsample': 0.75,\n",
              "  'n_estimators': 100,\n",
              "  'max_depth': 3,\n",
              "  'learning_rate': 0.23,\n",
              "  'gamma': 0.125,\n",
              "  'colsample_bytree': 0.5},\n",
              " 0.9709912195300324)"
            ]
          },
          "execution_count": 26,
          "metadata": {},
          "output_type": "execute_result"
        }
      ],
      "source": [
        "from sklearn.model_selection import RandomizedSearchCV\n",
        "import numpy as np\n",
        "\n",
        "# Define the hyperparameter grid for XGBoost\n",
        "param_dist = {\n",
        "    'learning_rate': np.linspace(0.01, 1, 10),\n",
        "    'max_depth': np.arange(3, 10),\n",
        "    'n_estimators': np.arange(50, 200, 50),\n",
        "    'gamma': np.linspace(0, 0.5, 5),\n",
        "    'subsample': np.linspace(0.5, 1, 5),\n",
        "    'colsample_bytree': np.linspace(0.5, 1, 5)\n",
        "}\n",
        "\n",
        "# Initialize RandomizedSearchCV with XGBoost\n",
        "xgb_search = RandomizedSearchCV(xgb_classifier, param_distributions=param_dist, n_iter=50, scoring='accuracy', n_jobs=-1, cv=3, random_state=42)\n",
        "\n",
        "# Fit the model\n",
        "xgb_search.fit(X_train, y_train)\n",
        "\n",
        "# Get the best parameters and best score\n",
        "xgb_best_params = xgb_search.best_params_\n",
        "xgb_best_score = xgb_search.best_score_\n",
        "\n",
        "xgb_best_params, xgb_best_score"
      ]
    },
    {
      "cell_type": "code",
      "execution_count": 27,
      "id": "2ef75020-23c8-48b7-bf83-23edae3485f5",
      "metadata": {
        "ExecuteTime": {
          "end_time": "2023-09-22T12:18:31.639369+00:00",
          "start_time": "2023-09-22T12:18:31.475351+00:00"
        },
        "noteable": {
          "cell_type": "code",
          "output_collection_id": "abc5891a-73bf-4670-83c7-ca2b41086b52"
        }
      },
      "outputs": [
        {
          "name": "stderr",
          "output_type": "stream",
          "text": [
            "c:\\Users\\tsepu\\Documents\\GitHub\\Churn_prediction\\env\\Lib\\site-packages\\xgboost\\data.py:335: FutureWarning: is_sparse is deprecated and will be removed in a future version. Check `isinstance(dtype, pd.SparseDtype)` instead.\n",
            "  if is_sparse(dtype):\n",
            "c:\\Users\\tsepu\\Documents\\GitHub\\Churn_prediction\\env\\Lib\\site-packages\\xgboost\\data.py:338: FutureWarning: is_categorical_dtype is deprecated and will be removed in a future version. Use isinstance(dtype, CategoricalDtype) instead\n",
            "  is_categorical_dtype(dtype) or is_pa_ext_categorical_dtype(dtype)\n",
            "c:\\Users\\tsepu\\Documents\\GitHub\\Churn_prediction\\env\\Lib\\site-packages\\xgboost\\data.py:384: FutureWarning: is_categorical_dtype is deprecated and will be removed in a future version. Use isinstance(dtype, CategoricalDtype) instead\n",
            "  if is_categorical_dtype(dtype):\n",
            "c:\\Users\\tsepu\\Documents\\GitHub\\Churn_prediction\\env\\Lib\\site-packages\\xgboost\\data.py:359: FutureWarning: is_categorical_dtype is deprecated and will be removed in a future version. Use isinstance(dtype, CategoricalDtype) instead\n",
            "  return is_int or is_bool or is_float or is_categorical_dtype(dtype)\n"
          ]
        },
        {
          "data": {
            "text/plain": [
              "(0.9698914116485686,\n",
              " '              precision    recall  f1-score   support\\n\\n           0       0.92      0.89      0.90       325\\n           1       0.98      0.98      0.98      1701\\n\\n    accuracy                           0.97      2026\\n   macro avg       0.95      0.94      0.94      2026\\nweighted avg       0.97      0.97      0.97      2026\\n')"
            ]
          },
          "execution_count": 27,
          "metadata": {},
          "output_type": "execute_result"
        }
      ],
      "source": [
        "# Use the best estimator from the RandomizedSearchCV to predict on the testing set\n",
        "xgb_best_predictions = xgb_search.best_estimator_.predict(X_test)\n",
        "\n",
        "# Evaluate the performance of the tuned XGBoost model\n",
        "xgb_best_accuracy = accuracy_score(y_test, xgb_best_predictions)\n",
        "xgb_best_classification_report = classification_report(y_test, xgb_best_predictions)\n",
        "\n",
        "xgb_best_accuracy, xgb_best_classification_report"
      ]
    },
    {
      "cell_type": "code",
      "execution_count": 28,
      "id": "01210bf3-f5fb-4b24-9b3f-92abfa82674d",
      "metadata": {
        "ExecuteTime": {
          "end_time": "2023-09-22T12:20:52.187244+00:00",
          "start_time": "2023-09-22T12:19:31.017389+00:00"
        },
        "noteable": {
          "cell_type": "code",
          "output_collection_id": "23f49d1f-c194-4977-bc6c-f1546a5c5c79"
        }
      },
      "outputs": [
        {
          "data": {
            "text/plain": [
              "({'n_estimators': 50,\n",
              "  'min_samples_split': 7,\n",
              "  'min_samples_leaf': 2,\n",
              "  'max_depth': 9,\n",
              "  'bootstrap': False},\n",
              " 0.9508702766693634)"
            ]
          },
          "execution_count": 28,
          "metadata": {},
          "output_type": "execute_result"
        }
      ],
      "source": [
        "from sklearn.model_selection import RandomizedSearchCV\n",
        "\n",
        "# Define the hyperparameter grid for Random Forest\n",
        "param_dist_rf = {\n",
        "    'n_estimators': np.arange(50, 200, 50),\n",
        "    'max_depth': np.arange(3, 10),\n",
        "    'min_samples_split': np.arange(2, 10),\n",
        "    'min_samples_leaf': np.arange(1, 10),\n",
        "    'bootstrap': [True, False]\n",
        "}\n",
        "\n",
        "# Initialize RandomizedSearchCV with Random Forest\n",
        "rf_search = RandomizedSearchCV(rf_classifier, param_distributions=param_dist_rf, n_iter=50, scoring='accuracy', n_jobs=-1, cv=3, random_state=42)\n",
        "\n",
        "# Fit the model\n",
        "rf_search.fit(X_train, y_train)\n",
        "\n",
        "# Get the best parameters and best score\n",
        "rf_best_params = rf_search.best_params_\n",
        "rf_best_score = rf_search.best_score_\n",
        "\n",
        "rf_best_params, rf_best_score"
      ]
    },
    {
      "cell_type": "code",
      "execution_count": 29,
      "id": "90c7cbfa-a857-441f-b39f-66c6e6bf9682",
      "metadata": {
        "ExecuteTime": {
          "end_time": "2023-09-22T12:22:05.495820+00:00",
          "start_time": "2023-09-22T12:22:05.321540+00:00"
        },
        "noteable": {
          "cell_type": "code",
          "output_collection_id": "c6ec947e-f7ce-4f53-9325-cce0b69c08ec"
        }
      },
      "outputs": [
        {
          "data": {
            "text/plain": [
              "(0.9511352418558736,\n",
              " '              precision    recall  f1-score   support\\n\\n           0       0.91      0.77      0.83       325\\n           1       0.96      0.99      0.97      1701\\n\\n    accuracy                           0.95      2026\\n   macro avg       0.93      0.88      0.90      2026\\nweighted avg       0.95      0.95      0.95      2026\\n')"
            ]
          },
          "execution_count": 29,
          "metadata": {},
          "output_type": "execute_result"
        }
      ],
      "source": [
        "# Use the best estimator from the RandomizedSearchCV to predict on the testing set\n",
        "rf_best_predictions = rf_search.best_estimator_.predict(X_test)\n",
        "\n",
        "# Evaluate the performance of the tuned Random Forest model\n",
        "rf_best_accuracy = accuracy_score(y_test, rf_best_predictions)\n",
        "rf_best_classification_report = classification_report(y_test, rf_best_predictions)\n",
        "\n",
        "rf_best_accuracy, rf_best_classification_report"
      ]
    },
    {
      "cell_type": "code",
      "execution_count": 30,
      "id": "3bd14d68-13bc-467d-a98b-eb7f2cf72839",
      "metadata": {
        "ExecuteTime": {
          "end_time": "2023-09-22T12:26:03.740182+00:00",
          "start_time": "2023-09-22T12:24:22.952315+00:00"
        },
        "noteable": {
          "cell_type": "code",
          "output_collection_id": "3a763275-3db0-4515-96f2-af979ad1bc9f"
        }
      },
      "outputs": [
        {
          "name": "stderr",
          "output_type": "stream",
          "text": [
            "c:\\Users\\tsepu\\Documents\\GitHub\\Churn_prediction\\env\\Lib\\site-packages\\sklearn\\cluster\\_kmeans.py:1416: FutureWarning: The default value of `n_init` will change from 10 to 'auto' in 1.4. Set the value of `n_init` explicitly to suppress the warning\n",
            "  super()._check_params_vs_input(X, default_n_init=10)\n",
            "c:\\Users\\tsepu\\Documents\\GitHub\\Churn_prediction\\env\\Lib\\site-packages\\sklearn\\cluster\\_kmeans.py:1416: FutureWarning: The default value of `n_init` will change from 10 to 'auto' in 1.4. Set the value of `n_init` explicitly to suppress the warning\n",
            "  super()._check_params_vs_input(X, default_n_init=10)\n",
            "c:\\Users\\tsepu\\Documents\\GitHub\\Churn_prediction\\env\\Lib\\site-packages\\sklearn\\cluster\\_kmeans.py:1416: FutureWarning: The default value of `n_init` will change from 10 to 'auto' in 1.4. Set the value of `n_init` explicitly to suppress the warning\n",
            "  super()._check_params_vs_input(X, default_n_init=10)\n",
            "c:\\Users\\tsepu\\Documents\\GitHub\\Churn_prediction\\env\\Lib\\site-packages\\sklearn\\cluster\\_kmeans.py:1416: FutureWarning: The default value of `n_init` will change from 10 to 'auto' in 1.4. Set the value of `n_init` explicitly to suppress the warning\n",
            "  super()._check_params_vs_input(X, default_n_init=10)\n",
            "c:\\Users\\tsepu\\Documents\\GitHub\\Churn_prediction\\env\\Lib\\site-packages\\sklearn\\cluster\\_kmeans.py:1416: FutureWarning: The default value of `n_init` will change from 10 to 'auto' in 1.4. Set the value of `n_init` explicitly to suppress the warning\n",
            "  super()._check_params_vs_input(X, default_n_init=10)\n",
            "c:\\Users\\tsepu\\Documents\\GitHub\\Churn_prediction\\env\\Lib\\site-packages\\sklearn\\cluster\\_kmeans.py:1416: FutureWarning: The default value of `n_init` will change from 10 to 'auto' in 1.4. Set the value of `n_init` explicitly to suppress the warning\n",
            "  super()._check_params_vs_input(X, default_n_init=10)\n",
            "c:\\Users\\tsepu\\Documents\\GitHub\\Churn_prediction\\env\\Lib\\site-packages\\sklearn\\cluster\\_kmeans.py:1416: FutureWarning: The default value of `n_init` will change from 10 to 'auto' in 1.4. Set the value of `n_init` explicitly to suppress the warning\n",
            "  super()._check_params_vs_input(X, default_n_init=10)\n",
            "c:\\Users\\tsepu\\Documents\\GitHub\\Churn_prediction\\env\\Lib\\site-packages\\sklearn\\cluster\\_kmeans.py:1416: FutureWarning: The default value of `n_init` will change from 10 to 'auto' in 1.4. Set the value of `n_init` explicitly to suppress the warning\n",
            "  super()._check_params_vs_input(X, default_n_init=10)\n",
            "c:\\Users\\tsepu\\Documents\\GitHub\\Churn_prediction\\env\\Lib\\site-packages\\sklearn\\cluster\\_kmeans.py:1416: FutureWarning: The default value of `n_init` will change from 10 to 'auto' in 1.4. Set the value of `n_init` explicitly to suppress the warning\n",
            "  super()._check_params_vs_input(X, default_n_init=10)\n",
            "c:\\Users\\tsepu\\Documents\\GitHub\\Churn_prediction\\env\\Lib\\site-packages\\sklearn\\cluster\\_kmeans.py:1416: FutureWarning: The default value of `n_init` will change from 10 to 'auto' in 1.4. Set the value of `n_init` explicitly to suppress the warning\n",
            "  super()._check_params_vs_input(X, default_n_init=10)\n",
            "c:\\Users\\tsepu\\Documents\\GitHub\\Churn_prediction\\env\\Lib\\site-packages\\sklearn\\cluster\\_kmeans.py:1416: FutureWarning: The default value of `n_init` will change from 10 to 'auto' in 1.4. Set the value of `n_init` explicitly to suppress the warning\n",
            "  super()._check_params_vs_input(X, default_n_init=10)\n",
            "c:\\Users\\tsepu\\Documents\\GitHub\\Churn_prediction\\env\\Lib\\site-packages\\sklearn\\cluster\\_kmeans.py:1416: FutureWarning: The default value of `n_init` will change from 10 to 'auto' in 1.4. Set the value of `n_init` explicitly to suppress the warning\n",
            "  super()._check_params_vs_input(X, default_n_init=10)\n",
            "c:\\Users\\tsepu\\Documents\\GitHub\\Churn_prediction\\env\\Lib\\site-packages\\sklearn\\cluster\\_kmeans.py:1416: FutureWarning: The default value of `n_init` will change from 10 to 'auto' in 1.4. Set the value of `n_init` explicitly to suppress the warning\n",
            "  super()._check_params_vs_input(X, default_n_init=10)\n",
            "c:\\Users\\tsepu\\Documents\\GitHub\\Churn_prediction\\env\\Lib\\site-packages\\sklearn\\cluster\\_kmeans.py:1416: FutureWarning: The default value of `n_init` will change from 10 to 'auto' in 1.4. Set the value of `n_init` explicitly to suppress the warning\n",
            "  super()._check_params_vs_input(X, default_n_init=10)\n"
          ]
        },
        {
          "data": {
            "image/png": "[encoded data removed]",
            "text/plain": [
              "<Figure size 1000x600 with 1 Axes>"
            ]
          },
          "metadata": {},
          "output_type": "display_data"
        }
      ],
      "source": [
        "from sklearn.cluster import KMeans\n",
        "import matplotlib.pyplot as plt\n",
        "\n",
        "# Determine the optimal number of clusters using the Elbow method\n",
        "inertia = []\n",
        "clusters_range = range(1, 15)\n",
        "\n",
        "for n_clusters in clusters_range:\n",
        "    kmeans = KMeans(n_clusters=n_clusters, random_state=42)\n",
        "    kmeans.fit(X_train)\n",
        "    inertia.append(kmeans.inertia_)\n",
        "\n",
        "# Plot the Elbow curve\n",
        "plt.figure(figsize=(10, 6))\n",
        "plt.plot(clusters_range, inertia, marker='o', linestyle='--')\n",
        "plt.title('Elbow Method for Optimal Number of Clusters')\n",
        "plt.xlabel('Number of Clusters')\n",
        "plt.ylabel('Inertia')\n",
        "plt.grid(True)\n",
        "plt.show()"
      ]
    },
    {
      "cell_type": "code",
      "execution_count": 31,
      "id": "3f36cacc-3dcc-44a5-8f64-6e59ff738dda",
      "metadata": {
        "ExecuteTime": {
          "end_time": "2023-09-22T12:26:16.351736+00:00",
          "start_time": "2023-09-22T12:26:12.606030+00:00"
        },
        "datalink": {
          "988d20aa-ca6e-4069-90c4-636f758cb8a7": {
            "applied_filters": [],
            "dataframe_info": {
              "default_index_used": false,
              "orig_num_cols": 19,
              "orig_num_rows": 3,
              "orig_size_bytes": 480,
              "truncated_num_cols": 19,
              "truncated_num_rows": 3,
              "truncated_size_bytes": 480,
              "truncated_string_columns": []
            },
            "display_id": "988d20aa-ca6e-4069-90c4-636f758cb8a7",
            "dx_settings": {
              "ALLOW_NOTEABLE_ATTRS": true,
              "COLUMN_SAMPLING_METHOD": "outer",
              "DB_LOCATION": ":memory:",
              "DEV_MODE": false,
              "DISPLAY_MAX_COLUMNS": 100,
              "DISPLAY_MAX_ROWS": 50000,
              "DISPLAY_MODE": "simple",
              "ENABLE_ASSIGNMENT": true,
              "ENABLE_DATALINK": true,
              "FLATTEN_COLUMN_VALUES": true,
              "FLATTEN_INDEX_VALUES": false,
              "GENERATE_DEX_METADATA": false,
              "HTML_TABLE_SCHEMA": false,
              "LOG_LEVEL": 30,
              "MAX_RENDER_SIZE_BYTES": 104857600,
              "MAX_STRING_LENGTH": 250,
              "NUM_PAST_SAMPLES_TRACKED": 3,
              "RANDOM_STATE": 12648430,
              "RESET_INDEX_VALUES": false,
              "ROW_SAMPLING_METHOD": "random",
              "SAMPLING_FACTOR": 0.1,
              "SAMPLING_METHOD": "random",
              "STRINGIFY_COLUMN_VALUES": true,
              "STRINGIFY_INDEX_VALUES": false
            },
            "sample_history": [],
            "sampling_time": "2023-09-22T12:26:16.189384",
            "user_variable_name": "cluster_characteristics",
            "variable_name": "cluster_characteristics"
          }
        },
        "noteable": {
          "cell_type": "code",
          "output_collection_id": "37815761-52e5-4c2e-990c-56ff77e8561a"
        }
      },
      "outputs": [
        {
          "name": "stderr",
          "output_type": "stream",
          "text": [
            "c:\\Users\\tsepu\\Documents\\GitHub\\Churn_prediction\\env\\Lib\\site-packages\\sklearn\\cluster\\_kmeans.py:1416: FutureWarning: The default value of `n_init` will change from 10 to 'auto' in 1.4. Set the value of `n_init` explicitly to suppress the warning\n",
            "  super()._check_params_vs_input(X, default_n_init=10)\n"
          ]
        },
        {
          "data": {
            "text/html": [
              "<div>\n",
              "<style scoped>\n",
              "    .dataframe tbody tr th:only-of-type {\n",
              "        vertical-align: middle;\n",
              "    }\n",
              "\n",
              "    .dataframe tbody tr th {\n",
              "        vertical-align: top;\n",
              "    }\n",
              "\n",
              "    .dataframe thead th {\n",
              "        text-align: right;\n",
              "    }\n",
              "</style>\n",
              "<table border=\"1\" class=\"dataframe\">\n",
              "  <thead>\n",
              "    <tr style=\"text-align: right;\">\n",
              "      <th></th>\n",
              "      <th>Customer_Age</th>\n",
              "      <th>Gender</th>\n",
              "      <th>Dependent_count</th>\n",
              "      <th>Education_Level</th>\n",
              "      <th>Marital_Status</th>\n",
              "      <th>Income_Category</th>\n",
              "      <th>Card_Category</th>\n",
              "      <th>Months_on_book</th>\n",
              "      <th>Total_Relationship_Count</th>\n",
              "      <th>Months_Inactive_12_mon</th>\n",
              "      <th>Contacts_Count_12_mon</th>\n",
              "      <th>Credit_Limit</th>\n",
              "      <th>Total_Revolving_Bal</th>\n",
              "      <th>Avg_Open_To_Buy</th>\n",
              "      <th>Total_Amt_Chng_Q4_Q1</th>\n",
              "      <th>Total_Trans_Amt</th>\n",
              "      <th>Total_Trans_Ct</th>\n",
              "      <th>Total_Ct_Chng_Q4_Q1</th>\n",
              "      <th>Avg_Utilization_Ratio</th>\n",
              "    </tr>\n",
              "    <tr>\n",
              "      <th>Cluster</th>\n",
              "      <th></th>\n",
              "      <th></th>\n",
              "      <th></th>\n",
              "      <th></th>\n",
              "      <th></th>\n",
              "      <th></th>\n",
              "      <th></th>\n",
              "      <th></th>\n",
              "      <th></th>\n",
              "      <th></th>\n",
              "      <th></th>\n",
              "      <th></th>\n",
              "      <th></th>\n",
              "      <th></th>\n",
              "      <th></th>\n",
              "      <th></th>\n",
              "      <th></th>\n",
              "      <th></th>\n",
              "      <th></th>\n",
              "    </tr>\n",
              "  </thead>\n",
              "  <tbody>\n",
              "    <tr>\n",
              "      <th>0</th>\n",
              "      <td>0.018537</td>\n",
              "      <td>0.891892</td>\n",
              "      <td>0.171656</td>\n",
              "      <td>2.974563</td>\n",
              "      <td>1.545310</td>\n",
              "      <td>1.899046</td>\n",
              "      <td>0.926073</td>\n",
              "      <td>0.020511</td>\n",
              "      <td>-0.234856</td>\n",
              "      <td>-0.040265</td>\n",
              "      <td>0.004463</td>\n",
              "      <td>1.953601</td>\n",
              "      <td>0.012846</td>\n",
              "      <td>1.952039</td>\n",
              "      <td>-0.021169</td>\n",
              "      <td>0.507697</td>\n",
              "      <td>0.315262</td>\n",
              "      <td>-0.048353</td>\n",
              "      <td>-0.820201</td>\n",
              "    </tr>\n",
              "    <tr>\n",
              "      <th>1</th>\n",
              "      <td>-0.003868</td>\n",
              "      <td>0.406061</td>\n",
              "      <td>-0.013953</td>\n",
              "      <td>5.313939</td>\n",
              "      <td>1.460202</td>\n",
              "      <td>3.005253</td>\n",
              "      <td>0.058182</td>\n",
              "      <td>-0.012032</td>\n",
              "      <td>0.040256</td>\n",
              "      <td>0.001444</td>\n",
              "      <td>-0.005081</td>\n",
              "      <td>-0.318277</td>\n",
              "      <td>-0.009471</td>\n",
              "      <td>-0.317361</td>\n",
              "      <td>0.012420</td>\n",
              "      <td>-0.063271</td>\n",
              "      <td>-0.046156</td>\n",
              "      <td>0.022663</td>\n",
              "      <td>0.128555</td>\n",
              "    </tr>\n",
              "    <tr>\n",
              "      <th>2</th>\n",
              "      <td>-0.002879</td>\n",
              "      <td>0.391941</td>\n",
              "      <td>-0.035291</td>\n",
              "      <td>1.894231</td>\n",
              "      <td>1.443681</td>\n",
              "      <td>3.038462</td>\n",
              "      <td>0.040064</td>\n",
              "      <td>0.003202</td>\n",
              "      <td>0.054740</td>\n",
              "      <td>0.000404</td>\n",
              "      <td>-0.007415</td>\n",
              "      <td>-0.381433</td>\n",
              "      <td>0.000776</td>\n",
              "      <td>-0.381422</td>\n",
              "      <td>-0.000489</td>\n",
              "      <td>-0.116406</td>\n",
              "      <td>-0.073055</td>\n",
              "      <td>-0.001300</td>\n",
              "      <td>0.158295</td>\n",
              "    </tr>\n",
              "  </tbody>\n",
              "</table>\n",
              "</div>"
            ],
            "text/plain": [
              "         Customer_Age    Gender  Dependent_count  Education_Level  \\\n",
              "Cluster                                                             \n",
              "0            0.018537  0.891892         0.171656         2.974563   \n",
              "1           -0.003868  0.406061        -0.013953         5.313939   \n",
              "2           -0.002879  0.391941        -0.035291         1.894231   \n",
              "\n",
              "         Marital_Status  Income_Category  Card_Category  Months_on_book  \\\n",
              "Cluster                                                                   \n",
              "0              1.545310         1.899046       0.926073        0.020511   \n",
              "1              1.460202         3.005253       0.058182       -0.012032   \n",
              "2              1.443681         3.038462       0.040064        0.003202   \n",
              "\n",
              "         Total_Relationship_Count  Months_Inactive_12_mon  \\\n",
              "Cluster                                                     \n",
              "0                       -0.234856               -0.040265   \n",
              "1                        0.040256                0.001444   \n",
              "2                        0.054740                0.000404   \n",
              "\n",
              "         Contacts_Count_12_mon  Credit_Limit  Total_Revolving_Bal  \\\n",
              "Cluster                                                             \n",
              "0                     0.004463      1.953601             0.012846   \n",
              "1                    -0.005081     -0.318277            -0.009471   \n",
              "2                    -0.007415     -0.381433             0.000776   \n",
              "\n",
              "         Avg_Open_To_Buy  Total_Amt_Chng_Q4_Q1  Total_Trans_Amt  \\\n",
              "Cluster                                                           \n",
              "0               1.952039             -0.021169         0.507697   \n",
              "1              -0.317361              0.012420        -0.063271   \n",
              "2              -0.381422             -0.000489        -0.116406   \n",
              "\n",
              "         Total_Trans_Ct  Total_Ct_Chng_Q4_Q1  Avg_Utilization_Ratio  \n",
              "Cluster                                                              \n",
              "0              0.315262            -0.048353              -0.820201  \n",
              "1             -0.046156             0.022663               0.128555  \n",
              "2             -0.073055            -0.001300               0.158295  "
            ]
          },
          "execution_count": 31,
          "metadata": {},
          "output_type": "execute_result"
        }
      ],
      "source": [
        "# Apply KMeans clustering with 3 clusters\n",
        "kmeans = KMeans(n_clusters=3, random_state=42)\n",
        "clusters = kmeans.fit_predict(X_train)\n",
        "\n",
        "# Add the cluster labels to the training data for analysis\n",
        "X_train_clustered = X_train.copy()\n",
        "X_train_clustered['Cluster'] = clusters\n",
        "\n",
        "# Get the mean values of each feature for each cluster\n",
        "cluster_characteristics = X_train_clustered.groupby('Cluster').mean()\n",
        "cluster_characteristics"
      ]
    },
    {
      "cell_type": "markdown",
      "id": "e2537600-e3f3-446e-9a13-762ca7c873a7",
      "metadata": {
        "noteable": {
          "cell_type": "markdown"
        }
      },
      "source": [
        "## Analysis of Clusters\n",
        "\n",
        "We applied the KMeans clustering algorithm and identified three distinct clusters of customers. The choice of three clusters was based on the Elbow method, which helps determine the optimal number of clusters by looking at the inertia (sum of squared distances) for different cluster numbers. The point where the inertia starts to level off suggests the optimal number of clusters.\n",
        "\n",
        "Here's a summary of the characteristics of each cluster based on the mean values of the features:\n",
        "\n",
        "- **Cluster 1**:\n",
        "  - Lower `Credit_Limit` and `Avg_Open_To_Buy`.\n",
        "  - Lower `Total_Trans_Amt` and `Total_Trans_Ct`.\n",
        "  - Higher `Avg_Utilization_Ratio`.\n",
        "  - This cluster might represent customers with lower credit limits who utilize a significant portion of their available credit.\n",
        "\n",
        "- **Cluster 2**:\n",
        "  - Higher `Credit_Limit` and `Avg_Open_To_Buy`.\n",
        "  - Higher `Total_Trans_Amt` and `Total_Trans_Ct`.\n",
        "  - Lower `Avg_Utilization_Ratio`.\n",
        "  - This cluster might represent premium customers with higher credit limits who are more active in terms of transactions but utilize a smaller portion of their available credit.\n",
        "\n",
        "- **Cluster 0**:\n",
        "  - Moderate `Credit_Limit` and `Avg_Open_To_Buy`.\n",
        "  - Moderate `Total_Trans_Amt` and `Total_Trans_Ct`.\n",
        "  - Moderate `Avg_Utilization_Ratio`.\n",
        "  - This cluster might represent the average customer segment with balanced characteristics.\n",
        "\n",
        "These clusters can be used by the marketing team to design targeted campaigns for each customer segment, addressing their unique characteristics and needs."
      ]
    },
    {
      "cell_type": "code",
      "execution_count": 32,
      "id": "1e4c8a46-a2c0-48a2-8ef1-eca3a7312bb1",
      "metadata": {
        "ExecuteTime": {
          "end_time": "2023-09-22T12:29:04.529688+00:00",
          "start_time": "2023-09-22T12:29:03.958764+00:00"
        },
        "datalink": {
          "f460c0cb-d142-452e-aac7-333a66cac17f": {
            "applied_filters": [],
            "dataframe_info": {
              "default_index_used": true,
              "orig_num_cols": 3,
              "orig_num_rows": 19,
              "orig_size_bytes": 532,
              "truncated_num_cols": 3,
              "truncated_num_rows": 19,
              "truncated_size_bytes": 532,
              "truncated_string_columns": []
            },
            "display_id": "f460c0cb-d142-452e-aac7-333a66cac17f",
            "dx_settings": {
              "ALLOW_NOTEABLE_ATTRS": true,
              "COLUMN_SAMPLING_METHOD": "outer",
              "DB_LOCATION": ":memory:",
              "DEV_MODE": false,
              "DISPLAY_MAX_COLUMNS": 100,
              "DISPLAY_MAX_ROWS": 50000,
              "DISPLAY_MODE": "simple",
              "ENABLE_ASSIGNMENT": true,
              "ENABLE_DATALINK": true,
              "FLATTEN_COLUMN_VALUES": true,
              "FLATTEN_INDEX_VALUES": false,
              "GENERATE_DEX_METADATA": false,
              "HTML_TABLE_SCHEMA": false,
              "LOG_LEVEL": 30,
              "MAX_RENDER_SIZE_BYTES": 104857600,
              "MAX_STRING_LENGTH": 250,
              "NUM_PAST_SAMPLES_TRACKED": 3,
              "RANDOM_STATE": 12648430,
              "RESET_INDEX_VALUES": false,
              "ROW_SAMPLING_METHOD": "random",
              "SAMPLING_FACTOR": 0.1,
              "SAMPLING_METHOD": "random",
              "STRINGIFY_COLUMN_VALUES": true,
              "STRINGIFY_INDEX_VALUES": false
            },
            "sample_history": [],
            "sampling_time": "2023-09-22T12:29:04.371234",
            "user_variable_name": "feature_importances",
            "variable_name": "feature_importances"
          }
        },
        "noteable": {
          "cell_type": "code",
          "output_collection_id": "a7461983-8281-458a-b8e1-221f15211b38"
        }
      },
      "outputs": [
        {
          "data": {
            "text/html": [
              "<div>\n",
              "<style scoped>\n",
              "    .dataframe tbody tr th:only-of-type {\n",
              "        vertical-align: middle;\n",
              "    }\n",
              "\n",
              "    .dataframe tbody tr th {\n",
              "        vertical-align: top;\n",
              "    }\n",
              "\n",
              "    .dataframe thead th {\n",
              "        text-align: right;\n",
              "    }\n",
              "</style>\n",
              "<table border=\"1\" class=\"dataframe\">\n",
              "  <thead>\n",
              "    <tr style=\"text-align: right;\">\n",
              "      <th></th>\n",
              "      <th>Feature</th>\n",
              "      <th>XGBoost Importance</th>\n",
              "      <th>Random Forest Importance</th>\n",
              "    </tr>\n",
              "  </thead>\n",
              "  <tbody>\n",
              "    <tr>\n",
              "      <th>12</th>\n",
              "      <td>Total_Revolving_Bal</td>\n",
              "      <td>0.165074</td>\n",
              "      <td>0.133497</td>\n",
              "    </tr>\n",
              "    <tr>\n",
              "      <th>16</th>\n",
              "      <td>Total_Trans_Ct</td>\n",
              "      <td>0.158495</td>\n",
              "      <td>0.184783</td>\n",
              "    </tr>\n",
              "    <tr>\n",
              "      <th>17</th>\n",
              "      <td>Total_Ct_Chng_Q4_Q1</td>\n",
              "      <td>0.120010</td>\n",
              "      <td>0.141888</td>\n",
              "    </tr>\n",
              "    <tr>\n",
              "      <th>15</th>\n",
              "      <td>Total_Trans_Amt</td>\n",
              "      <td>0.106553</td>\n",
              "      <td>0.222793</td>\n",
              "    </tr>\n",
              "    <tr>\n",
              "      <th>8</th>\n",
              "      <td>Total_Relationship_Count</td>\n",
              "      <td>0.097896</td>\n",
              "      <td>0.071154</td>\n",
              "    </tr>\n",
              "    <tr>\n",
              "      <th>9</th>\n",
              "      <td>Months_Inactive_12_mon</td>\n",
              "      <td>0.064437</td>\n",
              "      <td>0.022487</td>\n",
              "    </tr>\n",
              "    <tr>\n",
              "      <th>14</th>\n",
              "      <td>Total_Amt_Chng_Q4_Q1</td>\n",
              "      <td>0.050136</td>\n",
              "      <td>0.046119</td>\n",
              "    </tr>\n",
              "    <tr>\n",
              "      <th>10</th>\n",
              "      <td>Contacts_Count_12_mon</td>\n",
              "      <td>0.039126</td>\n",
              "      <td>0.025872</td>\n",
              "    </tr>\n",
              "    <tr>\n",
              "      <th>0</th>\n",
              "      <td>Customer_Age</td>\n",
              "      <td>0.031767</td>\n",
              "      <td>0.021468</td>\n",
              "    </tr>\n",
              "    <tr>\n",
              "      <th>1</th>\n",
              "      <td>Gender</td>\n",
              "      <td>0.031067</td>\n",
              "      <td>0.005761</td>\n",
              "    </tr>\n",
              "    <tr>\n",
              "      <th>11</th>\n",
              "      <td>Credit_Limit</td>\n",
              "      <td>0.021653</td>\n",
              "      <td>0.019031</td>\n",
              "    </tr>\n",
              "    <tr>\n",
              "      <th>7</th>\n",
              "      <td>Months_on_book</td>\n",
              "      <td>0.021502</td>\n",
              "      <td>0.013351</td>\n",
              "    </tr>\n",
              "    <tr>\n",
              "      <th>18</th>\n",
              "      <td>Avg_Utilization_Ratio</td>\n",
              "      <td>0.020694</td>\n",
              "      <td>0.059347</td>\n",
              "    </tr>\n",
              "    <tr>\n",
              "      <th>13</th>\n",
              "      <td>Avg_Open_To_Buy</td>\n",
              "      <td>0.019729</td>\n",
              "      <td>0.017980</td>\n",
              "    </tr>\n",
              "    <tr>\n",
              "      <th>4</th>\n",
              "      <td>Marital_Status</td>\n",
              "      <td>0.015035</td>\n",
              "      <td>0.002387</td>\n",
              "    </tr>\n",
              "    <tr>\n",
              "      <th>3</th>\n",
              "      <td>Education_Level</td>\n",
              "      <td>0.012631</td>\n",
              "      <td>0.003168</td>\n",
              "    </tr>\n",
              "    <tr>\n",
              "      <th>2</th>\n",
              "      <td>Dependent_count</td>\n",
              "      <td>0.011743</td>\n",
              "      <td>0.005138</td>\n",
              "    </tr>\n",
              "    <tr>\n",
              "      <th>6</th>\n",
              "      <td>Card_Category</td>\n",
              "      <td>0.008824</td>\n",
              "      <td>0.000600</td>\n",
              "    </tr>\n",
              "    <tr>\n",
              "      <th>5</th>\n",
              "      <td>Income_Category</td>\n",
              "      <td>0.003628</td>\n",
              "      <td>0.003175</td>\n",
              "    </tr>\n",
              "  </tbody>\n",
              "</table>\n",
              "</div>"
            ],
            "text/plain": [
              "                     Feature  XGBoost Importance  Random Forest Importance\n",
              "12       Total_Revolving_Bal            0.165074                  0.133497\n",
              "16            Total_Trans_Ct            0.158495                  0.184783\n",
              "17       Total_Ct_Chng_Q4_Q1            0.120010                  0.141888\n",
              "15           Total_Trans_Amt            0.106553                  0.222793\n",
              "8   Total_Relationship_Count            0.097896                  0.071154\n",
              "9     Months_Inactive_12_mon            0.064437                  0.022487\n",
              "14      Total_Amt_Chng_Q4_Q1            0.050136                  0.046119\n",
              "10     Contacts_Count_12_mon            0.039126                  0.025872\n",
              "0               Customer_Age            0.031767                  0.021468\n",
              "1                     Gender            0.031067                  0.005761\n",
              "11              Credit_Limit            0.021653                  0.019031\n",
              "7             Months_on_book            0.021502                  0.013351\n",
              "18     Avg_Utilization_Ratio            0.020694                  0.059347\n",
              "13           Avg_Open_To_Buy            0.019729                  0.017980\n",
              "4             Marital_Status            0.015035                  0.002387\n",
              "3            Education_Level            0.012631                  0.003168\n",
              "2            Dependent_count            0.011743                  0.005138\n",
              "6              Card_Category            0.008824                  0.000600\n",
              "5            Income_Category            0.003628                  0.003175"
            ]
          },
          "execution_count": 32,
          "metadata": {},
          "output_type": "execute_result"
        }
      ],
      "source": [
        "# Extract feature importances from the tuned XGBoost and Random Forest models\n",
        "xgb_feature_importance = xgb_search.best_estimator_.feature_importances_\n",
        "rf_feature_importance = rf_search.best_estimator_.feature_importances_\n",
        "\n",
        "# Create a DataFrame for feature importances\n",
        "feature_names = X_train.columns\n",
        "feature_importances = pd.DataFrame({\n",
        "    'Feature': feature_names,\n",
        "    'XGBoost Importance': xgb_feature_importance,\n",
        "    'Random Forest Importance': rf_feature_importance\n",
        "}).sort_values(by='XGBoost Importance', ascending=False)\n",
        "\n",
        "# Display the feature importances\n",
        "feature_importances"
      ]
    },
    {
      "cell_type": "code",
      "execution_count": 33,
      "id": "0160ccb4-01e9-4f40-ab9b-fc699da948e1",
      "metadata": {
        "ExecuteTime": {
          "end_time": "2023-09-22T12:30:18.615465+00:00",
          "start_time": "2023-09-22T12:30:17.905154+00:00"
        },
        "noteable": {
          "cell_type": "code",
          "output_collection_id": "de4bf7a5-dd8c-4033-97b6-43596ecaf5f2"
        }
      },
      "outputs": [
        {
          "data": {
            "image/png": "[encoded data removed]",
            "text/plain": [
              "<Figure size 1500x1000 with 2 Axes>"
            ]
          },
          "metadata": {},
          "output_type": "display_data"
        }
      ],
      "source": [
        "# Visualize the feature importances for XGBoost and Random Forest models\n",
        "plt.figure(figsize=(15, 10))\n",
        "\n",
        "# XGBoost Feature Importance\n",
        "plt.subplot(1, 2, 1)\n",
        "feature_importances.sort_values(by='XGBoost Importance', ascending=True).plot.barh(y='XGBoost Importance', x='Feature', ax=plt.gca(), color='skyblue')\n",
        "plt.title('XGBoost Feature Importance')\n",
        "plt.xlabel('Importance')\n",
        "\n",
        "# Random Forest Feature Importance\n",
        "plt.subplot(1, 2, 2)\n",
        "feature_importances.sort_values(by='Random Forest Importance', ascending=True).plot.barh(y='Random Forest Importance', x='Feature', ax=plt.gca(), color='salmon')\n",
        "plt.title('Random Forest Feature Importance')\n",
        "plt.xlabel('Importance')\n",
        "\n",
        "plt.tight_layout()\n",
        "plt.show()"
      ]
    }
  ],
  "metadata": {
    "kernel_info": {
      "name": "python3"
    },
    "kernelspec": {
      "display_name": "Python 3.9",
      "language": "python",
      "name": "python3"
    },
    "language_info": {
      "codemirror_mode": {
        "name": "ipython",
        "version": 3
      },
      "file_extension": ".py",
      "mimetype": "text/x-python",
      "name": "python",
      "nbconvert_exporter": "python",
      "pygments_lexer": "ipython3",
      "version": "3.11.5"
    },
    "noteable-chatgpt": {
      "create_notebook": {
        "openai_conversation_id": "304901fc-7d2c-524d-b9c3-ad61bd3e6475",
        "openai_ephemeral_user_id": "67eb6a4d-08e7-55d0-999b-04cdab43c948",
        "openai_subdivision1_iso_code": "BE-VLG"
      }
    },
    "selected_hardware_size": "small"
  },
  "nbformat": 4,
  "nbformat_minor": 5
}
